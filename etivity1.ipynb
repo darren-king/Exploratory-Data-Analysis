{
 "cells": [
  {
   "cell_type": "markdown",
   "id": "10e2dd29",
   "metadata": {},
   "source": [
    "### Exploratory Data Analysis (EDA) "
   ]
  },
  {
   "cell_type": "markdown",
   "id": "138c6e1b",
   "metadata": {},
   "source": [
    "Name: Darren King\n",
    "Student ID: 17145031"
   ]
  },
  {
   "cell_type": "code",
   "execution_count": 1,
   "id": "9e9d9488",
   "metadata": {},
   "outputs": [],
   "source": [
    "import pandas as pd\n",
    "import numpy as np\n",
    "import matplotlib.pyplot as plt\n",
    "import seaborn as sns\n",
    "from scipy import stats\n",
    "from sklearn.linear_model import LinearRegression \n",
    "from scipy.stats.mstats import winsorize"
   ]
  },
  {
   "cell_type": "code",
   "execution_count": 2,
   "id": "97531be8",
   "metadata": {},
   "outputs": [],
   "source": [
    "#Load the requisite csv file into a dataframe\n",
    "\n",
    "df = pd.read_csv('bank.csv')"
   ]
  },
  {
   "cell_type": "code",
   "execution_count": 3,
   "id": "a7e4ffda",
   "metadata": {},
   "outputs": [
    {
     "data": {
      "text/html": [
       "<div>\n",
       "<style scoped>\n",
       "    .dataframe tbody tr th:only-of-type {\n",
       "        vertical-align: middle;\n",
       "    }\n",
       "\n",
       "    .dataframe tbody tr th {\n",
       "        vertical-align: top;\n",
       "    }\n",
       "\n",
       "    .dataframe thead th {\n",
       "        text-align: right;\n",
       "    }\n",
       "</style>\n",
       "<table border=\"1\" class=\"dataframe\">\n",
       "  <thead>\n",
       "    <tr style=\"text-align: right;\">\n",
       "      <th></th>\n",
       "      <th>age</th>\n",
       "      <th>job</th>\n",
       "      <th>marital</th>\n",
       "      <th>education</th>\n",
       "      <th>default</th>\n",
       "      <th>balance</th>\n",
       "      <th>housing</th>\n",
       "      <th>loan</th>\n",
       "      <th>contact</th>\n",
       "      <th>day</th>\n",
       "      <th>month</th>\n",
       "      <th>duration</th>\n",
       "      <th>campaign</th>\n",
       "      <th>pdays</th>\n",
       "      <th>previous</th>\n",
       "      <th>poutcome</th>\n",
       "      <th>subscribed</th>\n",
       "    </tr>\n",
       "  </thead>\n",
       "  <tbody>\n",
       "    <tr>\n",
       "      <th>0</th>\n",
       "      <td>32.0</td>\n",
       "      <td>technician</td>\n",
       "      <td>single</td>\n",
       "      <td>tertiary</td>\n",
       "      <td>no</td>\n",
       "      <td>392</td>\n",
       "      <td>yes</td>\n",
       "      <td>no</td>\n",
       "      <td>cellular</td>\n",
       "      <td>1</td>\n",
       "      <td>apr</td>\n",
       "      <td>957</td>\n",
       "      <td>2</td>\n",
       "      <td>131</td>\n",
       "      <td>2</td>\n",
       "      <td>failure</td>\n",
       "      <td>no</td>\n",
       "    </tr>\n",
       "    <tr>\n",
       "      <th>1</th>\n",
       "      <td>39.0</td>\n",
       "      <td>technician</td>\n",
       "      <td>divorced</td>\n",
       "      <td>secondary</td>\n",
       "      <td>no</td>\n",
       "      <td>688</td>\n",
       "      <td>yes</td>\n",
       "      <td>yes</td>\n",
       "      <td>cellular</td>\n",
       "      <td>1</td>\n",
       "      <td>apr</td>\n",
       "      <td>233</td>\n",
       "      <td>2</td>\n",
       "      <td>133</td>\n",
       "      <td>1</td>\n",
       "      <td>failure</td>\n",
       "      <td>no</td>\n",
       "    </tr>\n",
       "    <tr>\n",
       "      <th>2</th>\n",
       "      <td>59.0</td>\n",
       "      <td>retired</td>\n",
       "      <td>married</td>\n",
       "      <td>secondary</td>\n",
       "      <td>no</td>\n",
       "      <td>1035</td>\n",
       "      <td>yes</td>\n",
       "      <td>yes</td>\n",
       "      <td>cellular</td>\n",
       "      <td>1</td>\n",
       "      <td>apr</td>\n",
       "      <td>126</td>\n",
       "      <td>2</td>\n",
       "      <td>239</td>\n",
       "      <td>1</td>\n",
       "      <td>failure</td>\n",
       "      <td>no</td>\n",
       "    </tr>\n",
       "    <tr>\n",
       "      <th>3</th>\n",
       "      <td>47.0</td>\n",
       "      <td>blue-collar</td>\n",
       "      <td>married</td>\n",
       "      <td>secondary</td>\n",
       "      <td>no</td>\n",
       "      <td>398</td>\n",
       "      <td>yes</td>\n",
       "      <td>yes</td>\n",
       "      <td>cellular</td>\n",
       "      <td>1</td>\n",
       "      <td>apr</td>\n",
       "      <td>274</td>\n",
       "      <td>1</td>\n",
       "      <td>238</td>\n",
       "      <td>2</td>\n",
       "      <td>failure</td>\n",
       "      <td>no</td>\n",
       "    </tr>\n",
       "    <tr>\n",
       "      <th>4</th>\n",
       "      <td>54.0</td>\n",
       "      <td>retired</td>\n",
       "      <td>married</td>\n",
       "      <td>secondary</td>\n",
       "      <td>no</td>\n",
       "      <td>1004</td>\n",
       "      <td>yes</td>\n",
       "      <td>no</td>\n",
       "      <td>cellular</td>\n",
       "      <td>1</td>\n",
       "      <td>apr</td>\n",
       "      <td>479</td>\n",
       "      <td>1</td>\n",
       "      <td>307</td>\n",
       "      <td>1</td>\n",
       "      <td>failure</td>\n",
       "      <td>no</td>\n",
       "    </tr>\n",
       "    <tr>\n",
       "      <th>5</th>\n",
       "      <td>46.0</td>\n",
       "      <td>self-employed</td>\n",
       "      <td>divorced</td>\n",
       "      <td>tertiary</td>\n",
       "      <td>no</td>\n",
       "      <td>926</td>\n",
       "      <td>yes</td>\n",
       "      <td>no</td>\n",
       "      <td>cellular</td>\n",
       "      <td>1</td>\n",
       "      <td>apr</td>\n",
       "      <td>463</td>\n",
       "      <td>1</td>\n",
       "      <td>133</td>\n",
       "      <td>3</td>\n",
       "      <td>failure</td>\n",
       "      <td>no</td>\n",
       "    </tr>\n",
       "    <tr>\n",
       "      <th>6</th>\n",
       "      <td>34.0</td>\n",
       "      <td>blue-collar</td>\n",
       "      <td>married</td>\n",
       "      <td>secondary</td>\n",
       "      <td>no</td>\n",
       "      <td>1924</td>\n",
       "      <td>yes</td>\n",
       "      <td>yes</td>\n",
       "      <td>cellular</td>\n",
       "      <td>1</td>\n",
       "      <td>apr</td>\n",
       "      <td>161</td>\n",
       "      <td>2</td>\n",
       "      <td>253</td>\n",
       "      <td>1</td>\n",
       "      <td>failure</td>\n",
       "      <td>no</td>\n",
       "    </tr>\n",
       "    <tr>\n",
       "      <th>7</th>\n",
       "      <td>45.0</td>\n",
       "      <td>services</td>\n",
       "      <td>divorced</td>\n",
       "      <td>secondary</td>\n",
       "      <td>no</td>\n",
       "      <td>396</td>\n",
       "      <td>yes</td>\n",
       "      <td>yes</td>\n",
       "      <td>cellular</td>\n",
       "      <td>1</td>\n",
       "      <td>apr</td>\n",
       "      <td>251</td>\n",
       "      <td>4</td>\n",
       "      <td>329</td>\n",
       "      <td>4</td>\n",
       "      <td>failure</td>\n",
       "      <td>no</td>\n",
       "    </tr>\n",
       "    <tr>\n",
       "      <th>8</th>\n",
       "      <td>58.0</td>\n",
       "      <td>management</td>\n",
       "      <td>divorced</td>\n",
       "      <td>tertiary</td>\n",
       "      <td>no</td>\n",
       "      <td>315</td>\n",
       "      <td>yes</td>\n",
       "      <td>no</td>\n",
       "      <td>cellular</td>\n",
       "      <td>1</td>\n",
       "      <td>apr</td>\n",
       "      <td>121</td>\n",
       "      <td>2</td>\n",
       "      <td>135</td>\n",
       "      <td>2</td>\n",
       "      <td>failure</td>\n",
       "      <td>no</td>\n",
       "    </tr>\n",
       "    <tr>\n",
       "      <th>9</th>\n",
       "      <td>49.0</td>\n",
       "      <td>management</td>\n",
       "      <td>divorced</td>\n",
       "      <td>tertiary</td>\n",
       "      <td>no</td>\n",
       "      <td>20727</td>\n",
       "      <td>no</td>\n",
       "      <td>no</td>\n",
       "      <td>cellular</td>\n",
       "      <td>1</td>\n",
       "      <td>apr</td>\n",
       "      <td>285</td>\n",
       "      <td>3</td>\n",
       "      <td>132</td>\n",
       "      <td>2</td>\n",
       "      <td>failure</td>\n",
       "      <td>no</td>\n",
       "    </tr>\n",
       "  </tbody>\n",
       "</table>\n",
       "</div>"
      ],
      "text/plain": [
       "    age            job   marital  education default  balance housing loan  \\\n",
       "0  32.0     technician    single   tertiary      no      392     yes   no   \n",
       "1  39.0     technician  divorced  secondary      no      688     yes  yes   \n",
       "2  59.0        retired   married  secondary      no     1035     yes  yes   \n",
       "3  47.0    blue-collar   married  secondary      no      398     yes  yes   \n",
       "4  54.0        retired   married  secondary      no     1004     yes   no   \n",
       "5  46.0  self-employed  divorced   tertiary      no      926     yes   no   \n",
       "6  34.0    blue-collar   married  secondary      no     1924     yes  yes   \n",
       "7  45.0       services  divorced  secondary      no      396     yes  yes   \n",
       "8  58.0     management  divorced   tertiary      no      315     yes   no   \n",
       "9  49.0     management  divorced   tertiary      no    20727      no   no   \n",
       "\n",
       "    contact  day month  duration  campaign  pdays  previous poutcome  \\\n",
       "0  cellular    1   apr       957         2    131         2  failure   \n",
       "1  cellular    1   apr       233         2    133         1  failure   \n",
       "2  cellular    1   apr       126         2    239         1  failure   \n",
       "3  cellular    1   apr       274         1    238         2  failure   \n",
       "4  cellular    1   apr       479         1    307         1  failure   \n",
       "5  cellular    1   apr       463         1    133         3  failure   \n",
       "6  cellular    1   apr       161         2    253         1  failure   \n",
       "7  cellular    1   apr       251         4    329         4  failure   \n",
       "8  cellular    1   apr       121         2    135         2  failure   \n",
       "9  cellular    1   apr       285         3    132         2  failure   \n",
       "\n",
       "  subscribed  \n",
       "0         no  \n",
       "1         no  \n",
       "2         no  \n",
       "3         no  \n",
       "4         no  \n",
       "5         no  \n",
       "6         no  \n",
       "7         no  \n",
       "8         no  \n",
       "9         no  "
      ]
     },
     "execution_count": 3,
     "metadata": {},
     "output_type": "execute_result"
    }
   ],
   "source": [
    "#Let's have a peek at the data - print the 1st 10 rows of the dataframe\n",
    "df.head(10)"
   ]
  },
  {
   "cell_type": "code",
   "execution_count": 4,
   "id": "5da0ceef",
   "metadata": {},
   "outputs": [
    {
     "data": {
      "text/html": [
       "<div>\n",
       "<style scoped>\n",
       "    .dataframe tbody tr th:only-of-type {\n",
       "        vertical-align: middle;\n",
       "    }\n",
       "\n",
       "    .dataframe tbody tr th {\n",
       "        vertical-align: top;\n",
       "    }\n",
       "\n",
       "    .dataframe thead th {\n",
       "        text-align: right;\n",
       "    }\n",
       "</style>\n",
       "<table border=\"1\" class=\"dataframe\">\n",
       "  <thead>\n",
       "    <tr style=\"text-align: right;\">\n",
       "      <th></th>\n",
       "      <th>age</th>\n",
       "      <th>job</th>\n",
       "      <th>marital</th>\n",
       "      <th>education</th>\n",
       "      <th>default</th>\n",
       "      <th>balance</th>\n",
       "      <th>housing</th>\n",
       "      <th>loan</th>\n",
       "      <th>contact</th>\n",
       "      <th>day</th>\n",
       "      <th>month</th>\n",
       "      <th>duration</th>\n",
       "      <th>campaign</th>\n",
       "      <th>pdays</th>\n",
       "      <th>previous</th>\n",
       "      <th>poutcome</th>\n",
       "      <th>subscribed</th>\n",
       "    </tr>\n",
       "  </thead>\n",
       "  <tbody>\n",
       "    <tr>\n",
       "      <th>1990</th>\n",
       "      <td>36.0</td>\n",
       "      <td>technician</td>\n",
       "      <td>married</td>\n",
       "      <td>tertiary</td>\n",
       "      <td>no</td>\n",
       "      <td>376</td>\n",
       "      <td>no</td>\n",
       "      <td>no</td>\n",
       "      <td>cellular</td>\n",
       "      <td>16</td>\n",
       "      <td>sep</td>\n",
       "      <td>173</td>\n",
       "      <td>1</td>\n",
       "      <td>-1</td>\n",
       "      <td>0</td>\n",
       "      <td>NaN</td>\n",
       "      <td>yes</td>\n",
       "    </tr>\n",
       "    <tr>\n",
       "      <th>1991</th>\n",
       "      <td>39.0</td>\n",
       "      <td>admin.</td>\n",
       "      <td>divorced</td>\n",
       "      <td>secondary</td>\n",
       "      <td>no</td>\n",
       "      <td>112</td>\n",
       "      <td>no</td>\n",
       "      <td>no</td>\n",
       "      <td>cellular</td>\n",
       "      <td>16</td>\n",
       "      <td>sep</td>\n",
       "      <td>574</td>\n",
       "      <td>3</td>\n",
       "      <td>-1</td>\n",
       "      <td>0</td>\n",
       "      <td>NaN</td>\n",
       "      <td>yes</td>\n",
       "    </tr>\n",
       "    <tr>\n",
       "      <th>1992</th>\n",
       "      <td>78.0</td>\n",
       "      <td>retired</td>\n",
       "      <td>divorced</td>\n",
       "      <td>primary</td>\n",
       "      <td>no</td>\n",
       "      <td>527</td>\n",
       "      <td>no</td>\n",
       "      <td>no</td>\n",
       "      <td>cellular</td>\n",
       "      <td>16</td>\n",
       "      <td>sep</td>\n",
       "      <td>193</td>\n",
       "      <td>1</td>\n",
       "      <td>-1</td>\n",
       "      <td>0</td>\n",
       "      <td>NaN</td>\n",
       "      <td>yes</td>\n",
       "    </tr>\n",
       "    <tr>\n",
       "      <th>1993</th>\n",
       "      <td>35.0</td>\n",
       "      <td>management</td>\n",
       "      <td>married</td>\n",
       "      <td>NaN</td>\n",
       "      <td>no</td>\n",
       "      <td>2326</td>\n",
       "      <td>yes</td>\n",
       "      <td>yes</td>\n",
       "      <td>cellular</td>\n",
       "      <td>16</td>\n",
       "      <td>sep</td>\n",
       "      <td>319</td>\n",
       "      <td>1</td>\n",
       "      <td>-1</td>\n",
       "      <td>0</td>\n",
       "      <td>NaN</td>\n",
       "      <td>yes</td>\n",
       "    </tr>\n",
       "    <tr>\n",
       "      <th>1994</th>\n",
       "      <td>26.0</td>\n",
       "      <td>student</td>\n",
       "      <td>single</td>\n",
       "      <td>secondary</td>\n",
       "      <td>no</td>\n",
       "      <td>655</td>\n",
       "      <td>no</td>\n",
       "      <td>no</td>\n",
       "      <td>cellular</td>\n",
       "      <td>16</td>\n",
       "      <td>sep</td>\n",
       "      <td>190</td>\n",
       "      <td>1</td>\n",
       "      <td>-1</td>\n",
       "      <td>0</td>\n",
       "      <td>NaN</td>\n",
       "      <td>yes</td>\n",
       "    </tr>\n",
       "    <tr>\n",
       "      <th>1995</th>\n",
       "      <td>20.0</td>\n",
       "      <td>student</td>\n",
       "      <td>single</td>\n",
       "      <td>NaN</td>\n",
       "      <td>no</td>\n",
       "      <td>2785</td>\n",
       "      <td>no</td>\n",
       "      <td>no</td>\n",
       "      <td>cellular</td>\n",
       "      <td>16</td>\n",
       "      <td>sep</td>\n",
       "      <td>327</td>\n",
       "      <td>2</td>\n",
       "      <td>-1</td>\n",
       "      <td>0</td>\n",
       "      <td>NaN</td>\n",
       "      <td>yes</td>\n",
       "    </tr>\n",
       "    <tr>\n",
       "      <th>1996</th>\n",
       "      <td>28.0</td>\n",
       "      <td>admin.</td>\n",
       "      <td>single</td>\n",
       "      <td>secondary</td>\n",
       "      <td>no</td>\n",
       "      <td>127</td>\n",
       "      <td>no</td>\n",
       "      <td>no</td>\n",
       "      <td>cellular</td>\n",
       "      <td>16</td>\n",
       "      <td>sep</td>\n",
       "      <td>1334</td>\n",
       "      <td>2</td>\n",
       "      <td>-1</td>\n",
       "      <td>0</td>\n",
       "      <td>NaN</td>\n",
       "      <td>yes</td>\n",
       "    </tr>\n",
       "    <tr>\n",
       "      <th>1997</th>\n",
       "      <td>81.0</td>\n",
       "      <td>retired</td>\n",
       "      <td>married</td>\n",
       "      <td>primary</td>\n",
       "      <td>no</td>\n",
       "      <td>1154</td>\n",
       "      <td>no</td>\n",
       "      <td>no</td>\n",
       "      <td>telephone</td>\n",
       "      <td>17</td>\n",
       "      <td>sep</td>\n",
       "      <td>231</td>\n",
       "      <td>1</td>\n",
       "      <td>-1</td>\n",
       "      <td>0</td>\n",
       "      <td>NaN</td>\n",
       "      <td>yes</td>\n",
       "    </tr>\n",
       "    <tr>\n",
       "      <th>1998</th>\n",
       "      <td>46.0</td>\n",
       "      <td>services</td>\n",
       "      <td>married</td>\n",
       "      <td>primary</td>\n",
       "      <td>no</td>\n",
       "      <td>4343</td>\n",
       "      <td>yes</td>\n",
       "      <td>no</td>\n",
       "      <td>NaN</td>\n",
       "      <td>20</td>\n",
       "      <td>sep</td>\n",
       "      <td>185</td>\n",
       "      <td>1</td>\n",
       "      <td>-1</td>\n",
       "      <td>0</td>\n",
       "      <td>NaN</td>\n",
       "      <td>yes</td>\n",
       "    </tr>\n",
       "    <tr>\n",
       "      <th>1999</th>\n",
       "      <td>40.0</td>\n",
       "      <td>entrepreneur</td>\n",
       "      <td>married</td>\n",
       "      <td>secondary</td>\n",
       "      <td>no</td>\n",
       "      <td>6403</td>\n",
       "      <td>no</td>\n",
       "      <td>no</td>\n",
       "      <td>cellular</td>\n",
       "      <td>22</td>\n",
       "      <td>sep</td>\n",
       "      <td>208</td>\n",
       "      <td>2</td>\n",
       "      <td>-1</td>\n",
       "      <td>0</td>\n",
       "      <td>NaN</td>\n",
       "      <td>yes</td>\n",
       "    </tr>\n",
       "  </tbody>\n",
       "</table>\n",
       "</div>"
      ],
      "text/plain": [
       "       age           job   marital  education default  balance housing loan  \\\n",
       "1990  36.0    technician   married   tertiary      no      376      no   no   \n",
       "1991  39.0        admin.  divorced  secondary      no      112      no   no   \n",
       "1992  78.0       retired  divorced    primary      no      527      no   no   \n",
       "1993  35.0    management   married        NaN      no     2326     yes  yes   \n",
       "1994  26.0       student    single  secondary      no      655      no   no   \n",
       "1995  20.0       student    single        NaN      no     2785      no   no   \n",
       "1996  28.0        admin.    single  secondary      no      127      no   no   \n",
       "1997  81.0       retired   married    primary      no     1154      no   no   \n",
       "1998  46.0      services   married    primary      no     4343     yes   no   \n",
       "1999  40.0  entrepreneur   married  secondary      no     6403      no   no   \n",
       "\n",
       "        contact  day month  duration  campaign  pdays  previous poutcome  \\\n",
       "1990   cellular   16   sep       173         1     -1         0      NaN   \n",
       "1991   cellular   16   sep       574         3     -1         0      NaN   \n",
       "1992   cellular   16   sep       193         1     -1         0      NaN   \n",
       "1993   cellular   16   sep       319         1     -1         0      NaN   \n",
       "1994   cellular   16   sep       190         1     -1         0      NaN   \n",
       "1995   cellular   16   sep       327         2     -1         0      NaN   \n",
       "1996   cellular   16   sep      1334         2     -1         0      NaN   \n",
       "1997  telephone   17   sep       231         1     -1         0      NaN   \n",
       "1998        NaN   20   sep       185         1     -1         0      NaN   \n",
       "1999   cellular   22   sep       208         2     -1         0      NaN   \n",
       "\n",
       "     subscribed  \n",
       "1990        yes  \n",
       "1991        yes  \n",
       "1992        yes  \n",
       "1993        yes  \n",
       "1994        yes  \n",
       "1995        yes  \n",
       "1996        yes  \n",
       "1997        yes  \n",
       "1998        yes  \n",
       "1999        yes  "
      ]
     },
     "execution_count": 4,
     "metadata": {},
     "output_type": "execute_result"
    }
   ],
   "source": [
    "#Let's have a peek at the data - Print the last 10 rows of the dataframe\n",
    "df.tail(10)"
   ]
  },
  {
   "cell_type": "code",
   "execution_count": 5,
   "id": "4fc5a3a3",
   "metadata": {},
   "outputs": [
    {
     "data": {
      "application/vnd.jupyter.widget-view+json": {
       "model_id": "5761adf43edd4c29add91a93eecbc325",
       "version_major": 2,
       "version_minor": 0
      },
      "text/plain": [
       "Summarize dataset:   0%|          | 0/30 [00:00<?, ?it/s]"
      ]
     },
     "metadata": {},
     "output_type": "display_data"
    },
    {
     "data": {
      "application/vnd.jupyter.widget-view+json": {
       "model_id": "631d2076f0c640c9bae283e419213d14",
       "version_major": 2,
       "version_minor": 0
      },
      "text/plain": [
       "Generate report structure:   0%|          | 0/1 [00:00<?, ?it/s]"
      ]
     },
     "metadata": {},
     "output_type": "display_data"
    },
    {
     "data": {
      "application/vnd.jupyter.widget-view+json": {
       "model_id": "abb2d2d1fded41c78da257b2a44e6de4",
       "version_major": 2,
       "version_minor": 0
      },
      "text/plain": [
       "Render HTML:   0%|          | 0/1 [00:00<?, ?it/s]"
      ]
     },
     "metadata": {},
     "output_type": "display_data"
    },
    {
     "data": {
      "application/vnd.jupyter.widget-view+json": {
       "model_id": "a41dd137467445f7ad8da07703a5c941",
       "version_major": 2,
       "version_minor": 0
      },
      "text/plain": [
       "Export report to file:   0%|          | 0/1 [00:00<?, ?it/s]"
      ]
     },
     "metadata": {},
     "output_type": "display_data"
    }
   ],
   "source": [
    "#We can make the view of this data a little prettier\n",
    "# Using pip: pip install pandas-profiling[notebook]\n",
    "# Using conda: conda install -c conda-forge pandas-profiling \n",
    "\n",
    "import pandas_profiling\n",
    "from pandas_profiling import ProfileReport\n",
    "\n",
    "profile = ProfileReport(df, explorative=True, dark_mode=True)\n",
    "profile.to_file('output_1.html')"
   ]
  },
  {
   "cell_type": "markdown",
   "id": "8c41991d",
   "metadata": {},
   "source": [
    "The above file is saved as output.html and can be opened in any browser and being honest is a bit of a cheat, in particular as far as this e-tivity is concerned as it does all the work for ya, but why try and re-invent the wheel?  "
   ]
  },
  {
   "cell_type": "markdown",
   "id": "33a9fdbc",
   "metadata": {},
   "source": [
    "The dataframe has 2000 rows containing both numerical and non-numerical or categorical data relating to direct marketing campaigns of a Portuguese banking institution. \n",
    "As per the UCI Machine Learning Repository bank.csv contains 17 inputs (or attributes) and relates to 10% of the bank-additional-full.csv dataset.\n",
    "\n",
    "The attributes considered are:\n",
    "\n",
    "Bank client data:\n",
    "\n",
    "1 - age (numeric)\n",
    "\n",
    "2 - job : type of job (categorical: 'admin.','blue-collar','entrepreneur','housemaid','management','retired','self-employed','services','student','technician','unemployed','unknown')\n",
    "\n",
    "3 - marital : marital status (categorical: 'divorced','married','single','unknown'; note: 'divorced' means divorced or widowed)\n",
    "\n",
    "4 - education (categorical: 'basic.4y','basic.6y','basic.9y','high.school','illiterate','professional.course','university.degree','unknown')\n",
    "\n",
    "5 - default: has credit in default? (categorical: 'no','yes','unknown')\n",
    "\n",
    "6 - balance\n",
    "\n",
    "7 - housing: has housing loan? (categorical: 'no','yes','unknown')\n",
    "\n",
    "8 - loan: has personal loan? (categorical: 'no','yes','unknown')\n",
    "\n",
    "The following attributes are related with the last contact of the current campaign:\n",
    "\n",
    "9 - contact: contact communication type (categorical: 'cellular','telephone') \n",
    "\n",
    "10 - month: last contact month of year (categorical: 'jan', 'feb', 'mar', ..., 'nov', 'dec')\n",
    "\n",
    "11 - day_of_week: last contact day of the week (categorical: 'mon','tue','wed','thu','fri')\n",
    "\n",
    "12 - duration: last contact duration, in seconds (numeric). Important note: this attribute highly affects the output target (e.g., if duration=0 then y='no'). Yet, the duration is not known before a call is performed. Also, after the end of the call y is obviously known. Thus, this input should only be included for benchmark purposes and should be discarded if the intention is to have a realistic predictive model.\n",
    "\n",
    "Other attributes:\n",
    "\n",
    "13 - campaign: number of contacts performed during this campaign and for this client (numeric, includes last contact)\n",
    "\n",
    "14 - pdays: number of days that passed by after the client was last contacted from a previous campaign (numeric; 999 means client was not previously contacted)\n",
    "\n",
    "15 - previous: number of contacts performed before this campaign and for this client (numeric)\n",
    "\n",
    "16 - poutcome: outcome of the previous marketing campaign (categorical: 'failure','nonexistent','success')\n",
    "\n",
    "17 - Subscribed - Did the client subscribe to a term deposit account - yes or no. "
   ]
  },
  {
   "cell_type": "code",
   "execution_count": null,
   "id": "541545ee",
   "metadata": {},
   "outputs": [],
   "source": []
  },
  {
   "cell_type": "markdown",
   "id": "a0613b1a",
   "metadata": {},
   "source": [
    "### Formulate a particular question that might be interesting to answer by exploring this dataset.\n",
    "\n",
    "The core question I chose to look at was the relationship between the age (numerical) of the client and their bank balance (numerical). \n",
    "From there I endeavoured to look for relationships between these 2 numerical values and the categorical job/employment attribute. \n",
    "Finally, ignoring the core attributes of the campaign (contact, month, day_of_week, campaign, pdays, previous and poutcome) I wanted to see if any relationship existed between those attributes I had already explored and whether the client subscribed. \n",
    "Effectively I was looking at some of the main attributes that pre-dated the campaign to see if these factors showed a relationship with one another and with the ultimate outcome - Did the client subscribe to a term deposit account - yes or no?\n",
    "\n",
    "Along the way I digress into mini-excursions which I'm chosing to leave in as they were learning points for me and may very well prove to be learning points for others but were not part of the core question I was looking at. "
   ]
  },
  {
   "cell_type": "markdown",
   "id": "d0f33168",
   "metadata": {},
   "source": [
    "### EDA of Numerical Attributes"
   ]
  },
  {
   "cell_type": "markdown",
   "id": "c386d174",
   "metadata": {},
   "source": [
    "Calculate statistics for the numerical attributes. Draw a short conclusion (approx. 150 words in a markdown cell)\n",
    "\n",
    "I have commented and discussed in different markdown cells on the numerical statistics as I go through each of the points rather than grouping it all together in a single markdown where it won't make as much contextual sense. "
   ]
  },
  {
   "cell_type": "code",
   "execution_count": 6,
   "id": "77f41ecd",
   "metadata": {},
   "outputs": [
    {
     "data": {
      "text/html": [
       "<div>\n",
       "<style scoped>\n",
       "    .dataframe tbody tr th:only-of-type {\n",
       "        vertical-align: middle;\n",
       "    }\n",
       "\n",
       "    .dataframe tbody tr th {\n",
       "        vertical-align: top;\n",
       "    }\n",
       "\n",
       "    .dataframe thead th {\n",
       "        text-align: right;\n",
       "    }\n",
       "</style>\n",
       "<table border=\"1\" class=\"dataframe\">\n",
       "  <thead>\n",
       "    <tr style=\"text-align: right;\">\n",
       "      <th></th>\n",
       "      <th>age</th>\n",
       "      <th>balance</th>\n",
       "      <th>day</th>\n",
       "      <th>duration</th>\n",
       "      <th>campaign</th>\n",
       "      <th>pdays</th>\n",
       "      <th>previous</th>\n",
       "    </tr>\n",
       "  </thead>\n",
       "  <tbody>\n",
       "    <tr>\n",
       "      <th>count</th>\n",
       "      <td>1988.000000</td>\n",
       "      <td>2000.000000</td>\n",
       "      <td>2000.000000</td>\n",
       "      <td>2000.000000</td>\n",
       "      <td>2000.000000</td>\n",
       "      <td>2000.000000</td>\n",
       "      <td>2000.000000</td>\n",
       "    </tr>\n",
       "    <tr>\n",
       "      <th>mean</th>\n",
       "      <td>41.753018</td>\n",
       "      <td>1413.663500</td>\n",
       "      <td>13.851500</td>\n",
       "      <td>292.020500</td>\n",
       "      <td>1.909500</td>\n",
       "      <td>167.896000</td>\n",
       "      <td>2.561500</td>\n",
       "    </tr>\n",
       "    <tr>\n",
       "      <th>std</th>\n",
       "      <td>12.724358</td>\n",
       "      <td>3131.224213</td>\n",
       "      <td>9.712189</td>\n",
       "      <td>221.557295</td>\n",
       "      <td>1.378862</td>\n",
       "      <td>131.754126</td>\n",
       "      <td>3.400735</td>\n",
       "    </tr>\n",
       "    <tr>\n",
       "      <th>min</th>\n",
       "      <td>18.000000</td>\n",
       "      <td>-980.000000</td>\n",
       "      <td>1.000000</td>\n",
       "      <td>7.000000</td>\n",
       "      <td>1.000000</td>\n",
       "      <td>-1.000000</td>\n",
       "      <td>0.000000</td>\n",
       "    </tr>\n",
       "    <tr>\n",
       "      <th>25%</th>\n",
       "      <td>32.000000</td>\n",
       "      <td>201.500000</td>\n",
       "      <td>5.000000</td>\n",
       "      <td>146.000000</td>\n",
       "      <td>1.000000</td>\n",
       "      <td>75.750000</td>\n",
       "      <td>1.000000</td>\n",
       "    </tr>\n",
       "    <tr>\n",
       "      <th>50%</th>\n",
       "      <td>38.000000</td>\n",
       "      <td>551.000000</td>\n",
       "      <td>12.000000</td>\n",
       "      <td>236.000000</td>\n",
       "      <td>1.000000</td>\n",
       "      <td>182.000000</td>\n",
       "      <td>2.000000</td>\n",
       "    </tr>\n",
       "    <tr>\n",
       "      <th>75%</th>\n",
       "      <td>50.000000</td>\n",
       "      <td>1644.500000</td>\n",
       "      <td>23.000000</td>\n",
       "      <td>379.000000</td>\n",
       "      <td>2.000000</td>\n",
       "      <td>251.000000</td>\n",
       "      <td>3.000000</td>\n",
       "    </tr>\n",
       "    <tr>\n",
       "      <th>max</th>\n",
       "      <td>93.000000</td>\n",
       "      <td>81204.000000</td>\n",
       "      <td>31.000000</td>\n",
       "      <td>1823.000000</td>\n",
       "      <td>11.000000</td>\n",
       "      <td>854.000000</td>\n",
       "      <td>55.000000</td>\n",
       "    </tr>\n",
       "  </tbody>\n",
       "</table>\n",
       "</div>"
      ],
      "text/plain": [
       "               age       balance          day     duration     campaign  \\\n",
       "count  1988.000000   2000.000000  2000.000000  2000.000000  2000.000000   \n",
       "mean     41.753018   1413.663500    13.851500   292.020500     1.909500   \n",
       "std      12.724358   3131.224213     9.712189   221.557295     1.378862   \n",
       "min      18.000000   -980.000000     1.000000     7.000000     1.000000   \n",
       "25%      32.000000    201.500000     5.000000   146.000000     1.000000   \n",
       "50%      38.000000    551.000000    12.000000   236.000000     1.000000   \n",
       "75%      50.000000   1644.500000    23.000000   379.000000     2.000000   \n",
       "max      93.000000  81204.000000    31.000000  1823.000000    11.000000   \n",
       "\n",
       "             pdays     previous  \n",
       "count  2000.000000  2000.000000  \n",
       "mean    167.896000     2.561500  \n",
       "std     131.754126     3.400735  \n",
       "min      -1.000000     0.000000  \n",
       "25%      75.750000     1.000000  \n",
       "50%     182.000000     2.000000  \n",
       "75%     251.000000     3.000000  \n",
       "max     854.000000    55.000000  "
      ]
     },
     "execution_count": 6,
     "metadata": {},
     "output_type": "execute_result"
    }
   ],
   "source": [
    "# Let's have a look at a statistical summary for all the numerical attributes of the dataframe\n",
    "\n",
    "df.describe()"
   ]
  },
  {
   "cell_type": "code",
   "execution_count": 7,
   "id": "eb1362e9",
   "metadata": {},
   "outputs": [
    {
     "data": {
      "text/html": [
       "<div>\n",
       "<style scoped>\n",
       "    .dataframe tbody tr th:only-of-type {\n",
       "        vertical-align: middle;\n",
       "    }\n",
       "\n",
       "    .dataframe tbody tr th {\n",
       "        vertical-align: top;\n",
       "    }\n",
       "\n",
       "    .dataframe thead th {\n",
       "        text-align: right;\n",
       "    }\n",
       "</style>\n",
       "<table border=\"1\" class=\"dataframe\">\n",
       "  <thead>\n",
       "    <tr style=\"text-align: right;\">\n",
       "      <th></th>\n",
       "      <th>count</th>\n",
       "      <th>mean</th>\n",
       "      <th>std</th>\n",
       "      <th>min</th>\n",
       "      <th>25%</th>\n",
       "      <th>50%</th>\n",
       "      <th>75%</th>\n",
       "      <th>max</th>\n",
       "    </tr>\n",
       "  </thead>\n",
       "  <tbody>\n",
       "    <tr>\n",
       "      <th>age</th>\n",
       "      <td>1988.0</td>\n",
       "      <td>41.753018</td>\n",
       "      <td>12.724358</td>\n",
       "      <td>18.0</td>\n",
       "      <td>32.00</td>\n",
       "      <td>38.0</td>\n",
       "      <td>50.0</td>\n",
       "      <td>93.0</td>\n",
       "    </tr>\n",
       "    <tr>\n",
       "      <th>balance</th>\n",
       "      <td>2000.0</td>\n",
       "      <td>1413.663500</td>\n",
       "      <td>3131.224213</td>\n",
       "      <td>-980.0</td>\n",
       "      <td>201.50</td>\n",
       "      <td>551.0</td>\n",
       "      <td>1644.5</td>\n",
       "      <td>81204.0</td>\n",
       "    </tr>\n",
       "    <tr>\n",
       "      <th>day</th>\n",
       "      <td>2000.0</td>\n",
       "      <td>13.851500</td>\n",
       "      <td>9.712189</td>\n",
       "      <td>1.0</td>\n",
       "      <td>5.00</td>\n",
       "      <td>12.0</td>\n",
       "      <td>23.0</td>\n",
       "      <td>31.0</td>\n",
       "    </tr>\n",
       "    <tr>\n",
       "      <th>duration</th>\n",
       "      <td>2000.0</td>\n",
       "      <td>292.020500</td>\n",
       "      <td>221.557295</td>\n",
       "      <td>7.0</td>\n",
       "      <td>146.00</td>\n",
       "      <td>236.0</td>\n",
       "      <td>379.0</td>\n",
       "      <td>1823.0</td>\n",
       "    </tr>\n",
       "    <tr>\n",
       "      <th>campaign</th>\n",
       "      <td>2000.0</td>\n",
       "      <td>1.909500</td>\n",
       "      <td>1.378862</td>\n",
       "      <td>1.0</td>\n",
       "      <td>1.00</td>\n",
       "      <td>1.0</td>\n",
       "      <td>2.0</td>\n",
       "      <td>11.0</td>\n",
       "    </tr>\n",
       "    <tr>\n",
       "      <th>pdays</th>\n",
       "      <td>2000.0</td>\n",
       "      <td>167.896000</td>\n",
       "      <td>131.754126</td>\n",
       "      <td>-1.0</td>\n",
       "      <td>75.75</td>\n",
       "      <td>182.0</td>\n",
       "      <td>251.0</td>\n",
       "      <td>854.0</td>\n",
       "    </tr>\n",
       "    <tr>\n",
       "      <th>previous</th>\n",
       "      <td>2000.0</td>\n",
       "      <td>2.561500</td>\n",
       "      <td>3.400735</td>\n",
       "      <td>0.0</td>\n",
       "      <td>1.00</td>\n",
       "      <td>2.0</td>\n",
       "      <td>3.0</td>\n",
       "      <td>55.0</td>\n",
       "    </tr>\n",
       "  </tbody>\n",
       "</table>\n",
       "</div>"
      ],
      "text/plain": [
       "           count         mean          std    min     25%    50%     75%  \\\n",
       "age       1988.0    41.753018    12.724358   18.0   32.00   38.0    50.0   \n",
       "balance   2000.0  1413.663500  3131.224213 -980.0  201.50  551.0  1644.5   \n",
       "day       2000.0    13.851500     9.712189    1.0    5.00   12.0    23.0   \n",
       "duration  2000.0   292.020500   221.557295    7.0  146.00  236.0   379.0   \n",
       "campaign  2000.0     1.909500     1.378862    1.0    1.00    1.0     2.0   \n",
       "pdays     2000.0   167.896000   131.754126   -1.0   75.75  182.0   251.0   \n",
       "previous  2000.0     2.561500     3.400735    0.0    1.00    2.0     3.0   \n",
       "\n",
       "              max  \n",
       "age          93.0  \n",
       "balance   81204.0  \n",
       "day          31.0  \n",
       "duration   1823.0  \n",
       "campaign     11.0  \n",
       "pdays       854.0  \n",
       "previous     55.0  "
      ]
     },
     "execution_count": 7,
     "metadata": {},
     "output_type": "execute_result"
    }
   ],
   "source": [
    "# If we transpose this data it might appear a little clearer.\n",
    "\n",
    "df.describe().T"
   ]
  },
  {
   "cell_type": "markdown",
   "id": "8cc594c0",
   "metadata": {},
   "source": [
    "From this we can see that there is missing data on the age of 12 of the customers. We can determine this number as a percentage (as demonstrated in the next cell). It's rather interesting that a bank wouldn't have this basic data on a client given one surely needs to know a clients DOB before opening a bank account - let's look at whether or not those for who we do not have an age opened a term deposit account (2 cells down). \n",
    "The mean age of the customers contacted was 41.7 years. \n",
    "The mean bank balance of the customers was 1413.66 with some lucky individual having 81204 in their account at the time these calls were made. This likely accounts for the skew in the data as seen with the mean income being 1413 and the median being 551.\n",
    "The mean number of times an individual was called was 1.9 with some individual(s) being called 11 times (this is why nobody answers the phone to banks anymore). "
   ]
  },
  {
   "cell_type": "code",
   "execution_count": 8,
   "id": "a27ff986",
   "metadata": {},
   "outputs": [
    {
     "name": "stdout",
     "output_type": "stream",
     "text": [
      "12\n"
     ]
    },
    {
     "data": {
      "text/plain": [
       "0.6"
      ]
     },
     "execution_count": 8,
     "metadata": {},
     "output_type": "execute_result"
    }
   ],
   "source": [
    "#Number of clients for whom we do not have an age\n",
    "print(df.age.isna().sum())\n",
    "\n",
    "#Percentage of clients for whom we do not have an age\n",
    "df.age.isna().mean()*100"
   ]
  },
  {
   "cell_type": "markdown",
   "id": "ccfbb57f",
   "metadata": {},
   "source": [
    "\n",
    "\n"
   ]
  },
  {
   "cell_type": "code",
   "execution_count": 9,
   "id": "5fad72aa",
   "metadata": {},
   "outputs": [
    {
     "data": {
      "text/html": [
       "<div>\n",
       "<style scoped>\n",
       "    .dataframe tbody tr th:only-of-type {\n",
       "        vertical-align: middle;\n",
       "    }\n",
       "\n",
       "    .dataframe tbody tr th {\n",
       "        vertical-align: top;\n",
       "    }\n",
       "\n",
       "    .dataframe thead th {\n",
       "        text-align: right;\n",
       "    }\n",
       "</style>\n",
       "<table border=\"1\" class=\"dataframe\">\n",
       "  <thead>\n",
       "    <tr style=\"text-align: right;\">\n",
       "      <th></th>\n",
       "      <th>age</th>\n",
       "      <th>job</th>\n",
       "      <th>marital</th>\n",
       "      <th>education</th>\n",
       "      <th>default</th>\n",
       "      <th>balance</th>\n",
       "      <th>housing</th>\n",
       "      <th>loan</th>\n",
       "      <th>contact</th>\n",
       "      <th>day</th>\n",
       "      <th>month</th>\n",
       "      <th>duration</th>\n",
       "      <th>campaign</th>\n",
       "      <th>pdays</th>\n",
       "      <th>previous</th>\n",
       "      <th>poutcome</th>\n",
       "      <th>subscribed</th>\n",
       "    </tr>\n",
       "  </thead>\n",
       "  <tbody>\n",
       "    <tr>\n",
       "      <th>1171</th>\n",
       "      <td>NaN</td>\n",
       "      <td>retired</td>\n",
       "      <td>married</td>\n",
       "      <td>tertiary</td>\n",
       "      <td>no</td>\n",
       "      <td>2812</td>\n",
       "      <td>no</td>\n",
       "      <td>no</td>\n",
       "      <td>cellular</td>\n",
       "      <td>3</td>\n",
       "      <td>aug</td>\n",
       "      <td>392</td>\n",
       "      <td>4</td>\n",
       "      <td>181</td>\n",
       "      <td>3</td>\n",
       "      <td>success</td>\n",
       "      <td>yes</td>\n",
       "    </tr>\n",
       "    <tr>\n",
       "      <th>1232</th>\n",
       "      <td>NaN</td>\n",
       "      <td>student</td>\n",
       "      <td>single</td>\n",
       "      <td>secondary</td>\n",
       "      <td>no</td>\n",
       "      <td>431</td>\n",
       "      <td>no</td>\n",
       "      <td>no</td>\n",
       "      <td>cellular</td>\n",
       "      <td>19</td>\n",
       "      <td>aug</td>\n",
       "      <td>418</td>\n",
       "      <td>11</td>\n",
       "      <td>185</td>\n",
       "      <td>5</td>\n",
       "      <td>success</td>\n",
       "      <td>yes</td>\n",
       "    </tr>\n",
       "    <tr>\n",
       "      <th>1408</th>\n",
       "      <td>NaN</td>\n",
       "      <td>self-employed</td>\n",
       "      <td>single</td>\n",
       "      <td>tertiary</td>\n",
       "      <td>no</td>\n",
       "      <td>251</td>\n",
       "      <td>no</td>\n",
       "      <td>no</td>\n",
       "      <td>cellular</td>\n",
       "      <td>12</td>\n",
       "      <td>jul</td>\n",
       "      <td>537</td>\n",
       "      <td>1</td>\n",
       "      <td>-1</td>\n",
       "      <td>0</td>\n",
       "      <td>NaN</td>\n",
       "      <td>yes</td>\n",
       "    </tr>\n",
       "  </tbody>\n",
       "</table>\n",
       "</div>"
      ],
      "text/plain": [
       "      age            job  marital  education default  balance housing loan  \\\n",
       "1171  NaN        retired  married   tertiary      no     2812      no   no   \n",
       "1232  NaN        student   single  secondary      no      431      no   no   \n",
       "1408  NaN  self-employed   single   tertiary      no      251      no   no   \n",
       "\n",
       "       contact  day month  duration  campaign  pdays  previous poutcome  \\\n",
       "1171  cellular    3   aug       392         4    181         3  success   \n",
       "1232  cellular   19   aug       418        11    185         5  success   \n",
       "1408  cellular   12   jul       537         1     -1         0      NaN   \n",
       "\n",
       "     subscribed  \n",
       "1171        yes  \n",
       "1232        yes  \n",
       "1408        yes  "
      ]
     },
     "execution_count": 9,
     "metadata": {},
     "output_type": "execute_result"
    }
   ],
   "source": [
    "# Did anyone for whom the bank did not have an age open a bank account\n",
    "\n",
    "no_age_and_subscribed = df[df.age.isna() & (df['subscribed'] == 'yes')]\n",
    "no_age_and_subscribed.head()"
   ]
  },
  {
   "cell_type": "markdown",
   "id": "acbb43b0",
   "metadata": {},
   "source": [
    "As the default for head() is 5 values and we only have 3, this means there were 3 individuals who subscribed for a term deposit account for which the bank has no age information. Dodgy dodgy. "
   ]
  },
  {
   "cell_type": "code",
   "execution_count": null,
   "id": "e410fc98",
   "metadata": {},
   "outputs": [],
   "source": []
  },
  {
   "cell_type": "markdown",
   "id": "d3000492",
   "metadata": {},
   "source": [
    "Let's do some correlation analysis between **Age** and Bank **Balance**"
   ]
  },
  {
   "cell_type": "code",
   "execution_count": 10,
   "id": "71488c17",
   "metadata": {},
   "outputs": [
    {
     "data": {
      "text/html": [
       "<div>\n",
       "<style scoped>\n",
       "    .dataframe tbody tr th:only-of-type {\n",
       "        vertical-align: middle;\n",
       "    }\n",
       "\n",
       "    .dataframe tbody tr th {\n",
       "        vertical-align: top;\n",
       "    }\n",
       "\n",
       "    .dataframe thead th {\n",
       "        text-align: right;\n",
       "    }\n",
       "</style>\n",
       "<table border=\"1\" class=\"dataframe\">\n",
       "  <thead>\n",
       "    <tr style=\"text-align: right;\">\n",
       "      <th></th>\n",
       "      <th>age</th>\n",
       "      <th>balance</th>\n",
       "      <th>day</th>\n",
       "      <th>duration</th>\n",
       "      <th>campaign</th>\n",
       "      <th>pdays</th>\n",
       "      <th>previous</th>\n",
       "    </tr>\n",
       "  </thead>\n",
       "  <tbody>\n",
       "    <tr>\n",
       "      <th>0</th>\n",
       "      <td>32.0</td>\n",
       "      <td>392</td>\n",
       "      <td>1</td>\n",
       "      <td>957</td>\n",
       "      <td>2</td>\n",
       "      <td>131</td>\n",
       "      <td>2</td>\n",
       "    </tr>\n",
       "    <tr>\n",
       "      <th>1</th>\n",
       "      <td>39.0</td>\n",
       "      <td>688</td>\n",
       "      <td>1</td>\n",
       "      <td>233</td>\n",
       "      <td>2</td>\n",
       "      <td>133</td>\n",
       "      <td>1</td>\n",
       "    </tr>\n",
       "    <tr>\n",
       "      <th>2</th>\n",
       "      <td>59.0</td>\n",
       "      <td>1035</td>\n",
       "      <td>1</td>\n",
       "      <td>126</td>\n",
       "      <td>2</td>\n",
       "      <td>239</td>\n",
       "      <td>1</td>\n",
       "    </tr>\n",
       "    <tr>\n",
       "      <th>3</th>\n",
       "      <td>47.0</td>\n",
       "      <td>398</td>\n",
       "      <td>1</td>\n",
       "      <td>274</td>\n",
       "      <td>1</td>\n",
       "      <td>238</td>\n",
       "      <td>2</td>\n",
       "    </tr>\n",
       "    <tr>\n",
       "      <th>4</th>\n",
       "      <td>54.0</td>\n",
       "      <td>1004</td>\n",
       "      <td>1</td>\n",
       "      <td>479</td>\n",
       "      <td>1</td>\n",
       "      <td>307</td>\n",
       "      <td>1</td>\n",
       "    </tr>\n",
       "    <tr>\n",
       "      <th>...</th>\n",
       "      <td>...</td>\n",
       "      <td>...</td>\n",
       "      <td>...</td>\n",
       "      <td>...</td>\n",
       "      <td>...</td>\n",
       "      <td>...</td>\n",
       "      <td>...</td>\n",
       "    </tr>\n",
       "    <tr>\n",
       "      <th>1995</th>\n",
       "      <td>20.0</td>\n",
       "      <td>2785</td>\n",
       "      <td>16</td>\n",
       "      <td>327</td>\n",
       "      <td>2</td>\n",
       "      <td>-1</td>\n",
       "      <td>0</td>\n",
       "    </tr>\n",
       "    <tr>\n",
       "      <th>1996</th>\n",
       "      <td>28.0</td>\n",
       "      <td>127</td>\n",
       "      <td>16</td>\n",
       "      <td>1334</td>\n",
       "      <td>2</td>\n",
       "      <td>-1</td>\n",
       "      <td>0</td>\n",
       "    </tr>\n",
       "    <tr>\n",
       "      <th>1997</th>\n",
       "      <td>81.0</td>\n",
       "      <td>1154</td>\n",
       "      <td>17</td>\n",
       "      <td>231</td>\n",
       "      <td>1</td>\n",
       "      <td>-1</td>\n",
       "      <td>0</td>\n",
       "    </tr>\n",
       "    <tr>\n",
       "      <th>1998</th>\n",
       "      <td>46.0</td>\n",
       "      <td>4343</td>\n",
       "      <td>20</td>\n",
       "      <td>185</td>\n",
       "      <td>1</td>\n",
       "      <td>-1</td>\n",
       "      <td>0</td>\n",
       "    </tr>\n",
       "    <tr>\n",
       "      <th>1999</th>\n",
       "      <td>40.0</td>\n",
       "      <td>6403</td>\n",
       "      <td>22</td>\n",
       "      <td>208</td>\n",
       "      <td>2</td>\n",
       "      <td>-1</td>\n",
       "      <td>0</td>\n",
       "    </tr>\n",
       "  </tbody>\n",
       "</table>\n",
       "<p>2000 rows × 7 columns</p>\n",
       "</div>"
      ],
      "text/plain": [
       "       age  balance  day  duration  campaign  pdays  previous\n",
       "0     32.0      392    1       957         2    131         2\n",
       "1     39.0      688    1       233         2    133         1\n",
       "2     59.0     1035    1       126         2    239         1\n",
       "3     47.0      398    1       274         1    238         2\n",
       "4     54.0     1004    1       479         1    307         1\n",
       "...    ...      ...  ...       ...       ...    ...       ...\n",
       "1995  20.0     2785   16       327         2     -1         0\n",
       "1996  28.0      127   16      1334         2     -1         0\n",
       "1997  81.0     1154   17       231         1     -1         0\n",
       "1998  46.0     4343   20       185         1     -1         0\n",
       "1999  40.0     6403   22       208         2     -1         0\n",
       "\n",
       "[2000 rows x 7 columns]"
      ]
     },
     "execution_count": 10,
     "metadata": {},
     "output_type": "execute_result"
    }
   ],
   "source": [
    "#Picking out the numerical data\n",
    "df.select_dtypes(\"number\")"
   ]
  },
  {
   "cell_type": "code",
   "execution_count": 11,
   "id": "a99ad1f8",
   "metadata": {},
   "outputs": [
    {
     "data": {
      "text/plain": [
       "count     2000.000000\n",
       "mean      1413.663500\n",
       "std       3131.224213\n",
       "min       -980.000000\n",
       "25%        201.500000\n",
       "50%        551.000000\n",
       "75%       1644.500000\n",
       "max      81204.000000\n",
       "Name: balance, dtype: float64"
      ]
     },
     "execution_count": 11,
     "metadata": {},
     "output_type": "execute_result"
    }
   ],
   "source": [
    "#Let's look at the bank balances first, we will predominantly use \n",
    "\n",
    "df.balance.describe()"
   ]
  },
  {
   "cell_type": "markdown",
   "id": "9f74439d",
   "metadata": {},
   "source": [
    "So we can see that all 2000 clients have a bank balance with a mean balance of 1413.6635, someone is 980 overdrawn and as repeatedly mentioned, some lucky lad has 81204 waiting for a shopping spree. "
   ]
  },
  {
   "cell_type": "code",
   "execution_count": 12,
   "id": "efaadad2",
   "metadata": {},
   "outputs": [
    {
     "data": {
      "text/plain": [
       "<AxesSubplot:title={'center':'Bank Balance Histogram'}, xlabel='Balance', ylabel='Client Numbers'>"
      ]
     },
     "execution_count": 12,
     "metadata": {},
     "output_type": "execute_result"
    },
    {
     "data": {
      "image/png": "[encoded data removed]",
      "text/plain": [
       "<Figure size 720x576 with 1 Axes>"
      ]
     },
     "metadata": {
      "needs_background": "light"
     },
     "output_type": "display_data"
    }
   ],
   "source": [
    "#What does this look like as a histogram?\n",
    "\n",
    "fig, ax = plt.subplots(figsize=(10,8))\n",
    "ax.set_title('Bank Balance Histogram')\n",
    "ax.set_xlabel(\"Balance\")\n",
    "ax.set_ylabel(\"Client Numbers\")\n",
    "df.balance.hist(ax=ax)"
   ]
  },
  {
   "cell_type": "markdown",
   "id": "aee7fb21",
   "metadata": {},
   "source": [
    "We can see that this plot is quite skewed based on the x axis - this is secondary to the max outlier who has a lovely balance of 81204. The histogram really allows us to see the skew caused by outliers. "
   ]
  },
  {
   "cell_type": "code",
   "execution_count": 13,
   "id": "1337b9f0",
   "metadata": {},
   "outputs": [
    {
     "data": {
      "text/plain": [
       "<AxesSubplot:title={'center':'Bank Balance Histogram'}, xlabel='Balance', ylabel='Client Numbers'>"
      ]
     },
     "execution_count": 13,
     "metadata": {},
     "output_type": "execute_result"
    },
    {
     "data": {
      "image/png": "[encoded data removed]",
      "text/plain": [
       "<Figure size 720x576 with 1 Axes>"
      ]
     },
     "metadata": {
      "needs_background": "light"
     },
     "output_type": "display_data"
    }
   ],
   "source": [
    "#Increase the number of bins to see what behaviours the skew might be hiding. \n",
    "\n",
    "fig, ax = plt.subplots(figsize=(10,8))\n",
    "ax.set_title('Bank Balance Histogram')\n",
    "ax.set_xlabel(\"Balance\")\n",
    "ax.set_ylabel(\"Client Numbers\")\n",
    "df.balance.hist(ax=ax, bins=50)"
   ]
  },
  {
   "cell_type": "code",
   "execution_count": 14,
   "id": "fb6caa0d",
   "metadata": {},
   "outputs": [
    {
     "data": {
      "text/plain": [
       "<seaborn.axisgrid.FacetGrid at 0x1555d9640>"
      ]
     },
     "execution_count": 14,
     "metadata": {},
     "output_type": "execute_result"
    },
    {
     "data": {
      "image/png": "[encoded data removed]",
      "text/plain": [
       "<Figure size 756x504 with 1 Axes>"
      ]
     },
     "metadata": {
      "needs_background": "light"
     },
     "output_type": "display_data"
    },
    {
     "data": {
      "image/png": "[encoded data removed]",
      "text/plain": [
       "<Figure size 756x504 with 1 Axes>"
      ]
     },
     "metadata": {
      "needs_background": "light"
     },
     "output_type": "display_data"
    }
   ],
   "source": [
    "#We can create a distribution plot consisting of a histogram, a KDE and a rug plot to better understand \n",
    "#the bank balance distribution \n",
    "\n",
    "\n",
    "sns.displot(df.balance, kind='hist', height = 7, aspect = 1.5, rug=True)\n",
    "sns.displot(df.balance, kind='kde', height = 7, aspect = 1.5, rug=False)"
   ]
  },
  {
   "cell_type": "markdown",
   "id": "dcef21d5",
   "metadata": {},
   "source": [
    "From the distribution plot we can see that lovely outlier, we can also see the little spikes as part of the rug plot.\n",
    "The KDE (Kernel Density Estimation) allows us to visualise the probability density function (PDF) of the bank balance which as one of my colleagues astutely pointed out may poorly represent the underlying data. The logic of the KDE assumes that the underlying distribution is smooth and unbounded. In the case of a bank balance whilst the upper bound is arguably unbounded I'm not quite sure that the bank will be happy with an unbounded lower limit (especially given the data is from 2012 so the lessons of the crash will have been learned and inordinate overdrafts are likely a thing of the past). To compensate for this, we can use a smoothed KDE curve."
   ]
  },
  {
   "cell_type": "code",
   "execution_count": 15,
   "id": "892267b1",
   "metadata": {},
   "outputs": [
    {
     "data": {
      "text/plain": [
       "<seaborn.axisgrid.FacetGrid at 0x1555fe250>"
      ]
     },
     "execution_count": 15,
     "metadata": {},
     "output_type": "execute_result"
    },
    {
     "data": {
      "image/png": "[encoded data removed]",
      "text/plain": [
       "<Figure size 756x504 with 1 Axes>"
      ]
     },
     "metadata": {
      "needs_background": "light"
     },
     "output_type": "display_data"
    }
   ],
   "source": [
    "sns.displot(df.balance, kind='hist', height = 7, aspect = 1.5, kde=True)"
   ]
  },
  {
   "cell_type": "markdown",
   "id": "7788476f",
   "metadata": {},
   "source": [
    "We could equally visualise this data as a boxplot, violin polt or boxen plot which will be more striking once I've removed outliers so I will leave it until then. "
   ]
  },
  {
   "cell_type": "code",
   "execution_count": null,
   "id": "e858373c",
   "metadata": {},
   "outputs": [],
   "source": []
  },
  {
   "cell_type": "markdown",
   "id": "633d8aca",
   "metadata": {},
   "source": [
    "We could look at whether these balances are 'normal' by determining the p-value of the distribution. "
   ]
  },
  {
   "cell_type": "code",
   "execution_count": 16,
   "id": "12edc0f7",
   "metadata": {},
   "outputs": [
    {
     "data": {
      "text/plain": [
       "KstestResult(statistic=0.9036501019683699, pvalue=0.0)"
      ]
     },
     "execution_count": 16,
     "metadata": {},
     "output_type": "execute_result"
    }
   ],
   "source": [
    "stats.kstest(df.balance, cdf=\"norm\")"
   ]
  },
  {
   "cell_type": "markdown",
   "id": "ae957367",
   "metadata": {},
   "source": [
    "With this p-value, the data is not normal, and we can look at this graphically. "
   ]
  },
  {
   "cell_type": "code",
   "execution_count": 17,
   "id": "01d2c780",
   "metadata": {},
   "outputs": [
    {
     "data": {
      "text/plain": [
       "((array([-3.39232293, -3.14126578, -3.00201262, ...,  3.00201262,\n",
       "          3.14126578,  3.39232293]),\n",
       "  array([ -980,  -768,  -744, ..., 29340, 31472, 81204])),\n",
       " (1947.0768430357434, 1413.6635000000003, 0.6210430643297318))"
      ]
     },
     "execution_count": 17,
     "metadata": {},
     "output_type": "execute_result"
    },
    {
     "data": {
      "image/png": "[encoded data removed]",
      "text/plain": [
       "<Figure size 720x576 with 1 Axes>"
      ]
     },
     "metadata": {
      "needs_background": "light"
     },
     "output_type": "display_data"
    }
   ],
   "source": [
    "fig, ax = plt.subplots(figsize=(10,8))\n",
    "stats.probplot(df.balance, plot=ax)"
   ]
  },
  {
   "cell_type": "markdown",
   "id": "ede8320b",
   "metadata": {},
   "source": [
    "Relatively speaking, the values track the normal line for a large number of the values, but then the high balances throw the normal distribution off so we don't have a 'normal' distribution. It would be interesting to see if we have a normal distribution as far as the age profile of the banks clients is concerned. In order to do that we'd have to clean the age data as we know there are NaN values in there and statistical testing requires entirley numerical data as can be seen by performing the following statistical analysis. "
   ]
  },
  {
   "cell_type": "code",
   "execution_count": 18,
   "id": "1ff04729",
   "metadata": {},
   "outputs": [
    {
     "data": {
      "text/plain": [
       "KstestResult(statistic=nan, pvalue=nan)"
      ]
     },
     "execution_count": 18,
     "metadata": {},
     "output_type": "execute_result"
    }
   ],
   "source": [
    "stats.kstest(df.age, cdf=\"norm\")"
   ]
  },
  {
   "cell_type": "code",
   "execution_count": 19,
   "id": "485359a5",
   "metadata": {},
   "outputs": [
    {
     "data": {
      "text/plain": [
       "((array([-3.39232293, -3.14126578, -3.00201262, ...,  3.00201262,\n",
       "          3.14126578,  3.39232293]),\n",
       "  array([18., 19., 19., ..., nan, nan, nan])),\n",
       " (nan, nan, nan))"
      ]
     },
     "execution_count": 19,
     "metadata": {},
     "output_type": "execute_result"
    },
    {
     "data": {
      "image/png": "[encoded data removed]",
      "text/plain": [
       "<Figure size 720x576 with 1 Axes>"
      ]
     },
     "metadata": {
      "needs_background": "light"
     },
     "output_type": "display_data"
    }
   ],
   "source": [
    "fig,ax = plt.subplots(figsize=(10,8))\n",
    "stats.probplot(df.age, plot=ax)"
   ]
  },
  {
   "cell_type": "markdown",
   "id": "3d50aabe",
   "metadata": {},
   "source": [
    "It was at this point I decided to look at cleaning up the data and deal with missing values. Sensibly, this should've been done at an earlier stage but I'm doing it now as I've reached a point where I need the data in a cleaner format. There are a few options here; I could drop any row that had a missing value for any attribute, I could fill missing values using something like fillna(mean_value) which will work on numerical data and use another imputation method for categorical columns. \n",
    "Or, we could use an ML technique to predict missing data. \n"
   ]
  },
  {
   "cell_type": "code",
   "execution_count": null,
   "id": "d3f8edb5",
   "metadata": {},
   "outputs": [],
   "source": []
  },
  {
   "cell_type": "code",
   "execution_count": 20,
   "id": "9676ac1f",
   "metadata": {},
   "outputs": [],
   "source": [
    "df2 = df.dropna(axis=0, how='any', inplace=False) \n",
    "# Now any rows with at least 1 missing value have been dropped\n",
    "# by assigning axis = 0 we iterate over the rows, how can take an 'any' or 'all' value and this is how rows\n",
    "# are dropped - if any value is missing drop that row, if all values are missing drop that row. \n",
    "# The inplace parameter if False will drop from the existing df and saves the changes in the dataframe,\n",
    "# if True it's an inplace operation and the return is None. "
   ]
  },
  {
   "cell_type": "code",
   "execution_count": 21,
   "id": "6d520ce8",
   "metadata": {},
   "outputs": [
    {
     "data": {
      "application/vnd.jupyter.widget-view+json": {
       "model_id": "18e75687f8294453aaba6beeac054466",
       "version_major": 2,
       "version_minor": 0
      },
      "text/plain": [
       "Summarize dataset:   0%|          | 0/31 [00:00<?, ?it/s]"
      ]
     },
     "metadata": {},
     "output_type": "display_data"
    },
    {
     "data": {
      "application/vnd.jupyter.widget-view+json": {
       "model_id": "d510f9761c384464819722c8d5857ebe",
       "version_major": 2,
       "version_minor": 0
      },
      "text/plain": [
       "Generate report structure:   0%|          | 0/1 [00:00<?, ?it/s]"
      ]
     },
     "metadata": {},
     "output_type": "display_data"
    },
    {
     "data": {
      "application/vnd.jupyter.widget-view+json": {
       "model_id": "f4f3a36d769a428e9c926e9f28ae47d6",
       "version_major": 2,
       "version_minor": 0
      },
      "text/plain": [
       "Render HTML:   0%|          | 0/1 [00:00<?, ?it/s]"
      ]
     },
     "metadata": {},
     "output_type": "display_data"
    },
    {
     "data": {
      "application/vnd.jupyter.widget-view+json": {
       "model_id": "27c5986d1590495f9dc3b3d56d5a3cea",
       "version_major": 2,
       "version_minor": 0
      },
      "text/plain": [
       "Export report to file:   0%|          | 0/1 [00:00<?, ?it/s]"
      ]
     },
     "metadata": {},
     "output_type": "display_data"
    }
   ],
   "source": [
    "profile_2 = ProfileReport(df2, explorative=True, dark_mode=True)\n",
    "profile_2.to_file('output_2.html')"
   ]
  },
  {
   "cell_type": "markdown",
   "id": "8aebab41",
   "metadata": {},
   "source": [
    "What we find if we drop all rows with missing cells is that our data goes from 2000 rows of data to 1452 rows of data - we've lost over 25% of our data. Currently I'm working with age and balance; balance has no missing data and age has 12 missing values - throwing away 25% of the data because of 12 missing data points seems extreme (I could of course just get rid of the rows with missing age data, but let's explore imputing the data with some ML techniques). As I'm going to use a Linear Regression model to preidct the missing age data, ideally we should use attributes with a strong degree of correlation with age as inputs but as seen above and again here below there isn't a huge amount of correlation between the attributes so let's use all the numerical attributes.\n"
   ]
  },
  {
   "cell_type": "code",
   "execution_count": 22,
   "id": "12ab10f2",
   "metadata": {},
   "outputs": [
    {
     "data": {
      "text/html": [
       "<div>\n",
       "<style scoped>\n",
       "    .dataframe tbody tr th:only-of-type {\n",
       "        vertical-align: middle;\n",
       "    }\n",
       "\n",
       "    .dataframe tbody tr th {\n",
       "        vertical-align: top;\n",
       "    }\n",
       "\n",
       "    .dataframe thead th {\n",
       "        text-align: right;\n",
       "    }\n",
       "</style>\n",
       "<table border=\"1\" class=\"dataframe\">\n",
       "  <thead>\n",
       "    <tr style=\"text-align: right;\">\n",
       "      <th></th>\n",
       "      <th>age</th>\n",
       "      <th>balance</th>\n",
       "      <th>day</th>\n",
       "      <th>duration</th>\n",
       "      <th>campaign</th>\n",
       "      <th>pdays</th>\n",
       "      <th>previous</th>\n",
       "    </tr>\n",
       "  </thead>\n",
       "  <tbody>\n",
       "    <tr>\n",
       "      <th>age</th>\n",
       "      <td>1.000000</td>\n",
       "      <td>0.139874</td>\n",
       "      <td>0.042411</td>\n",
       "      <td>0.076732</td>\n",
       "      <td>-0.002876</td>\n",
       "      <td>0.009121</td>\n",
       "      <td>0.063805</td>\n",
       "    </tr>\n",
       "    <tr>\n",
       "      <th>balance</th>\n",
       "      <td>0.139874</td>\n",
       "      <td>1.000000</td>\n",
       "      <td>0.037078</td>\n",
       "      <td>0.096633</td>\n",
       "      <td>0.025103</td>\n",
       "      <td>-0.033014</td>\n",
       "      <td>0.030292</td>\n",
       "    </tr>\n",
       "    <tr>\n",
       "      <th>day</th>\n",
       "      <td>0.042411</td>\n",
       "      <td>0.037078</td>\n",
       "      <td>1.000000</td>\n",
       "      <td>0.058597</td>\n",
       "      <td>-0.019719</td>\n",
       "      <td>0.054188</td>\n",
       "      <td>0.063716</td>\n",
       "    </tr>\n",
       "    <tr>\n",
       "      <th>duration</th>\n",
       "      <td>0.076732</td>\n",
       "      <td>0.096633</td>\n",
       "      <td>0.058597</td>\n",
       "      <td>1.000000</td>\n",
       "      <td>-0.005188</td>\n",
       "      <td>-0.095650</td>\n",
       "      <td>-0.015965</td>\n",
       "    </tr>\n",
       "    <tr>\n",
       "      <th>campaign</th>\n",
       "      <td>-0.002876</td>\n",
       "      <td>0.025103</td>\n",
       "      <td>-0.019719</td>\n",
       "      <td>-0.005188</td>\n",
       "      <td>1.000000</td>\n",
       "      <td>0.030929</td>\n",
       "      <td>0.140995</td>\n",
       "    </tr>\n",
       "    <tr>\n",
       "      <th>pdays</th>\n",
       "      <td>0.009121</td>\n",
       "      <td>-0.033014</td>\n",
       "      <td>0.054188</td>\n",
       "      <td>-0.095650</td>\n",
       "      <td>0.030929</td>\n",
       "      <td>1.000000</td>\n",
       "      <td>0.218636</td>\n",
       "    </tr>\n",
       "    <tr>\n",
       "      <th>previous</th>\n",
       "      <td>0.063805</td>\n",
       "      <td>0.030292</td>\n",
       "      <td>0.063716</td>\n",
       "      <td>-0.015965</td>\n",
       "      <td>0.140995</td>\n",
       "      <td>0.218636</td>\n",
       "      <td>1.000000</td>\n",
       "    </tr>\n",
       "  </tbody>\n",
       "</table>\n",
       "</div>"
      ],
      "text/plain": [
       "               age   balance       day  duration  campaign     pdays  previous\n",
       "age       1.000000  0.139874  0.042411  0.076732 -0.002876  0.009121  0.063805\n",
       "balance   0.139874  1.000000  0.037078  0.096633  0.025103 -0.033014  0.030292\n",
       "day       0.042411  0.037078  1.000000  0.058597 -0.019719  0.054188  0.063716\n",
       "duration  0.076732  0.096633  0.058597  1.000000 -0.005188 -0.095650 -0.015965\n",
       "campaign -0.002876  0.025103 -0.019719 -0.005188  1.000000  0.030929  0.140995\n",
       "pdays     0.009121 -0.033014  0.054188 -0.095650  0.030929  1.000000  0.218636\n",
       "previous  0.063805  0.030292  0.063716 -0.015965  0.140995  0.218636  1.000000"
      ]
     },
     "execution_count": 22,
     "metadata": {},
     "output_type": "execute_result"
    }
   ],
   "source": [
    "df.corr()"
   ]
  },
  {
   "cell_type": "code",
   "execution_count": 23,
   "id": "020c8af2",
   "metadata": {},
   "outputs": [],
   "source": [
    "# Renaming the dataframe as data for ease of reading/understanding and for manipulation\n",
    "data = df\n",
    "\n",
    "# Adding the subscribed categorical data as a numerical value\n",
    "data['subnum'] = data['subscribed'].map({'yes':1, 'no':0})\n",
    "\n",
    "#Subestting out the numerical/continuous data - not going to use categorical data\n",
    "data = data.select_dtypes(include=np.number)\n",
    "\n",
    "test_data = data[data[\"age\"].isnull()]\n",
    "\n",
    "data = data.dropna() #Get rid of all null values in our data set\n",
    "\n",
    "\n",
    "y_train= data[\"age\"] #Get the rows from our age data with non-null values\n",
    "\n",
    "X_train = data.drop(\"age\", axis=1) # dataset except age data with non null values\n",
    "\n",
    "X_test = test_data.drop(\"age\", axis=1) # dataset except age data with null values\n",
    "\n",
    "model = LinearRegression(copy_X=True, fit_intercept=True, n_jobs=None)\n",
    "model.fit(X_train, y_train)\n",
    "\n",
    "y_pred = model.predict(X_test)\n",
    "\n",
    "df.loc[df.age.isnull(), 'age'] = y_pred #Assign the predicted values to the missing values in the dataframe "
   ]
  },
  {
   "cell_type": "code",
   "execution_count": null,
   "id": "a644b05b",
   "metadata": {},
   "outputs": [],
   "source": []
  },
  {
   "cell_type": "markdown",
   "id": "d1047049",
   "metadata": {},
   "source": [
    "Now that we've filled in the missing age data we can have a look to see if the age data is a normal distribution. "
   ]
  },
  {
   "cell_type": "code",
   "execution_count": 24,
   "id": "bf7faad2",
   "metadata": {},
   "outputs": [
    {
     "data": {
      "text/plain": [
       "KstestResult(statistic=1.0, pvalue=0.0)"
      ]
     },
     "execution_count": 24,
     "metadata": {},
     "output_type": "execute_result"
    }
   ],
   "source": [
    "stats.kstest(df.age, cdf=\"norm\")"
   ]
  },
  {
   "cell_type": "markdown",
   "id": "f62b18d3",
   "metadata": {},
   "source": [
    "Again, with a p<0.05 we reject the null hypothesis of a normal population distribution. "
   ]
  },
  {
   "cell_type": "code",
   "execution_count": 25,
   "id": "baf003e1",
   "metadata": {},
   "outputs": [
    {
     "data": {
      "text/plain": [
       "((array([-3.39232293, -3.14126578, -3.00201262, ...,  3.00201262,\n",
       "          3.14126578,  3.39232293]),\n",
       "  array([18., 19., 19., ..., 86., 93., 93.])),\n",
       " (12.342534358873628, 41.749937593357686, 0.9716694454428927))"
      ]
     },
     "execution_count": 25,
     "metadata": {},
     "output_type": "execute_result"
    },
    {
     "data": {
      "image/png": "[encoded data removed]",
      "text/plain": [
       "<Figure size 720x576 with 1 Axes>"
      ]
     },
     "metadata": {
      "needs_background": "light"
     },
     "output_type": "display_data"
    }
   ],
   "source": [
    "fig,ax = plt.subplots(figsize=(10,8))\n",
    "stats.probplot(df.age, plot=ax)"
   ]
  },
  {
   "cell_type": "code",
   "execution_count": null,
   "id": "c5577b1b",
   "metadata": {},
   "outputs": [],
   "source": []
  },
  {
   "cell_type": "markdown",
   "id": "1dab7c22",
   "metadata": {},
   "source": [
    "Next I wanted to adjust the data for outliers. (As I'm exploring the data and currently don't intend on modelling the data this will have a significant impact on how we want to treat outliers). As the bank balance is a source of an annoying outlier I'm going to concentrate on that part of the data for now. "
   ]
  },
  {
   "cell_type": "code",
   "execution_count": 26,
   "id": "eb721944",
   "metadata": {},
   "outputs": [
    {
     "data": {
      "text/html": [
       "<div>\n",
       "<style scoped>\n",
       "    .dataframe tbody tr th:only-of-type {\n",
       "        vertical-align: middle;\n",
       "    }\n",
       "\n",
       "    .dataframe tbody tr th {\n",
       "        vertical-align: top;\n",
       "    }\n",
       "\n",
       "    .dataframe thead th {\n",
       "        text-align: right;\n",
       "    }\n",
       "</style>\n",
       "<table border=\"1\" class=\"dataframe\">\n",
       "  <thead>\n",
       "    <tr style=\"text-align: right;\">\n",
       "      <th></th>\n",
       "      <th>balance</th>\n",
       "    </tr>\n",
       "  </thead>\n",
       "  <tbody>\n",
       "    <tr>\n",
       "      <th>count</th>\n",
       "      <td>2000.000000</td>\n",
       "    </tr>\n",
       "    <tr>\n",
       "      <th>mean</th>\n",
       "      <td>1413.663500</td>\n",
       "    </tr>\n",
       "    <tr>\n",
       "      <th>std</th>\n",
       "      <td>3131.224213</td>\n",
       "    </tr>\n",
       "    <tr>\n",
       "      <th>min</th>\n",
       "      <td>-980.000000</td>\n",
       "    </tr>\n",
       "    <tr>\n",
       "      <th>25%</th>\n",
       "      <td>201.500000</td>\n",
       "    </tr>\n",
       "    <tr>\n",
       "      <th>50%</th>\n",
       "      <td>551.000000</td>\n",
       "    </tr>\n",
       "    <tr>\n",
       "      <th>75%</th>\n",
       "      <td>1644.500000</td>\n",
       "    </tr>\n",
       "    <tr>\n",
       "      <th>max</th>\n",
       "      <td>81204.000000</td>\n",
       "    </tr>\n",
       "  </tbody>\n",
       "</table>\n",
       "</div>"
      ],
      "text/plain": [
       "            balance\n",
       "count   2000.000000\n",
       "mean    1413.663500\n",
       "std     3131.224213\n",
       "min     -980.000000\n",
       "25%      201.500000\n",
       "50%      551.000000\n",
       "75%     1644.500000\n",
       "max    81204.000000"
      ]
     },
     "execution_count": 26,
     "metadata": {},
     "output_type": "execute_result"
    }
   ],
   "source": [
    "df[['balance']].describe()"
   ]
  },
  {
   "cell_type": "code",
   "execution_count": 27,
   "id": "29c10fe8",
   "metadata": {},
   "outputs": [],
   "source": [
    "q1 = df['balance'].quantile(0.25)\n",
    "q3 = df['balance'].quantile(0.75)\n",
    "iqr = q3 - q1\n",
    "lower_lim = q1 - 1.5*iqr\n",
    "upper_lim = q3 + 1.5*iqr"
   ]
  },
  {
   "cell_type": "code",
   "execution_count": 28,
   "id": "797029f8",
   "metadata": {},
   "outputs": [
    {
     "name": "stdout",
     "output_type": "stream",
     "text": [
      "-1963.0\n",
      "3809.0\n"
     ]
    }
   ],
   "source": [
    "print(lower_lim)\n",
    "print(upper_lim)"
   ]
  },
  {
   "cell_type": "code",
   "execution_count": 29,
   "id": "9f1d5c7e",
   "metadata": {},
   "outputs": [
    {
     "data": {
      "text/plain": [
       "-367.08"
      ]
     },
     "execution_count": 29,
     "metadata": {},
     "output_type": "execute_result"
    }
   ],
   "source": [
    "df['balance'].quantile(0.01)"
   ]
  },
  {
   "cell_type": "code",
   "execution_count": 30,
   "id": "047c1678",
   "metadata": {},
   "outputs": [
    {
     "data": {
      "text/plain": [
       "8304.0"
      ]
     },
     "execution_count": 30,
     "metadata": {},
     "output_type": "execute_result"
    }
   ],
   "source": [
    "df['balance'].quantile(0.98)"
   ]
  },
  {
   "cell_type": "code",
   "execution_count": 31,
   "id": "916fcede",
   "metadata": {},
   "outputs": [],
   "source": [
    "#Using the winsorize method to limit outliers with an upper and lower limit which will be similar to the \n",
    "# iqr method calculated above\n",
    "\n",
    "df_balance_win = winsorize(df['balance'], (0.01, 0.02)) #The boundary tuple given as a second argument to the function applies\n",
    "#the exact point on percentile from the beginning for the first element of the tuple and the exact point from the \n",
    "#end for the second element of the tuple. "
   ]
  },
  {
   "cell_type": "markdown",
   "id": "ea347f19",
   "metadata": {},
   "source": [
    "If we look at the bank balances graphically again with the windsorised masked array:"
   ]
  },
  {
   "cell_type": "code",
   "execution_count": 32,
   "id": "edc85b65",
   "metadata": {},
   "outputs": [
    {
     "data": {
      "text/plain": [
       "<seaborn.axisgrid.FacetGrid at 0x157a6b610>"
      ]
     },
     "execution_count": 32,
     "metadata": {},
     "output_type": "execute_result"
    },
    {
     "data": {
      "image/png": "[encoded data removed]",
      "text/plain": [
       "<Figure size 756x504 with 1 Axes>"
      ]
     },
     "metadata": {
      "needs_background": "light"
     },
     "output_type": "display_data"
    },
    {
     "data": {
      "image/png": "[encoded data removed]",
      "text/plain": [
       "<Figure size 756x504 with 1 Axes>"
      ]
     },
     "metadata": {
      "needs_background": "light"
     },
     "output_type": "display_data"
    },
    {
     "data": {
      "image/png": "[encoded data removed]",
      "text/plain": [
       "<Figure size 756x504 with 1 Axes>"
      ]
     },
     "metadata": {
      "needs_background": "light"
     },
     "output_type": "display_data"
    }
   ],
   "source": [
    "sns.displot(df_balance_win, kind='hist', height = 7, aspect = 1.5, rug=True)\n",
    "sns.displot(df_balance_win, kind='kde', height = 7, aspect = 1.5, rug=False)\n",
    "sns.displot(df_balance_win, kind='hist', height = 7, aspect = 1.5, kde=True)"
   ]
  },
  {
   "cell_type": "code",
   "execution_count": null,
   "id": "cdee9447",
   "metadata": {},
   "outputs": [],
   "source": [
    "\n"
   ]
  },
  {
   "cell_type": "code",
   "execution_count": null,
   "id": "5f9c1f44",
   "metadata": {},
   "outputs": [],
   "source": []
  },
  {
   "cell_type": "code",
   "execution_count": null,
   "id": "561e5cde",
   "metadata": {},
   "outputs": [],
   "source": []
  },
  {
   "cell_type": "code",
   "execution_count": null,
   "id": "79e2633f",
   "metadata": {},
   "outputs": [],
   "source": []
  },
  {
   "cell_type": "code",
   "execution_count": null,
   "id": "665ec918",
   "metadata": {},
   "outputs": [],
   "source": []
  },
  {
   "cell_type": "code",
   "execution_count": 33,
   "id": "8c63788a",
   "metadata": {},
   "outputs": [
    {
     "data": {
      "text/plain": [
       "<seaborn.axisgrid.FacetGrid at 0x157b0d670>"
      ]
     },
     "execution_count": 33,
     "metadata": {},
     "output_type": "execute_result"
    },
    {
     "data": {
      "image/png": "[encoded data removed]",
      "text/plain": [
       "<Figure size 756x504 with 1 Axes>"
      ]
     },
     "metadata": {
      "needs_background": "light"
     },
     "output_type": "display_data"
    },
    {
     "data": {
      "image/png": "[encoded data removed]",
      "text/plain": [
       "<Figure size 756x504 with 1 Axes>"
      ]
     },
     "metadata": {
      "needs_background": "light"
     },
     "output_type": "display_data"
    }
   ],
   "source": [
    "sns.displot(df.age, kind='hist', height = 7, aspect = 1.5)\n",
    "sns.displot(df.age, kind='kde', height = 7, aspect = 1.5)"
   ]
  },
  {
   "cell_type": "markdown",
   "id": "e0f817e2",
   "metadata": {},
   "source": [
    "Above we have a Histogram and Kernel Density Estimation Plot of age which again we can superimpose as a smooth KDE ontop of the Hisotgram"
   ]
  },
  {
   "cell_type": "code",
   "execution_count": 34,
   "id": "cd53ca91",
   "metadata": {},
   "outputs": [
    {
     "data": {
      "text/plain": [
       "<seaborn.axisgrid.FacetGrid at 0x1579821c0>"
      ]
     },
     "execution_count": 34,
     "metadata": {},
     "output_type": "execute_result"
    },
    {
     "data": {
      "image/png": "[encoded data removed]",
      "text/plain": [
       "<Figure size 756x504 with 1 Axes>"
      ]
     },
     "metadata": {
      "needs_background": "light"
     },
     "output_type": "display_data"
    }
   ],
   "source": [
    "sns.displot(df.age, kind='hist', height = 7, aspect = 1.5, kde=True)"
   ]
  },
  {
   "cell_type": "code",
   "execution_count": 35,
   "id": "bdadb300",
   "metadata": {},
   "outputs": [
    {
     "data": {
      "text/plain": [
       "<AxesSubplot:>"
      ]
     },
     "execution_count": 35,
     "metadata": {},
     "output_type": "execute_result"
    },
    {
     "data": {
      "image/png": "[encoded data removed]",
      "text/plain": [
       "<Figure size 1080x576 with 2 Axes>"
      ]
     },
     "metadata": {},
     "output_type": "display_data"
    }
   ],
   "source": [
    "#Let's explore a heatmap distribution of age and bank balance\n",
    "\n",
    "sns.set(rc = {'figure.figsize': (15,8)})\n",
    "sns.heatmap(df[['age', 'balance']].corr(), cmap=\"Reds\", annot=True)"
   ]
  },
  {
   "cell_type": "markdown",
   "id": "14ea638e",
   "metadata": {},
   "source": [
    "Not very exciting and not a huge amount of information here other than to say that there is a 0.14 correlation between the age and bank balance which is marginally more than absolutely zero linear correlation between these values. "
   ]
  },
  {
   "cell_type": "code",
   "execution_count": null,
   "id": "4caa8cb0",
   "metadata": {},
   "outputs": [],
   "source": []
  },
  {
   "cell_type": "markdown",
   "id": "b2e9517c",
   "metadata": {},
   "source": [
    "### EDA of Categorical Attributes"
   ]
  },
  {
   "cell_type": "markdown",
   "id": "d59a2981",
   "metadata": {},
   "source": [
    "Calculate statistics for the categorical attributes. Draw a short conclusion (approx. 150 words in a markdown cell)\n",
    "\n",
    "I have commented and discussed in different markdown cells on the categorical statistics as I go through each of the points. "
   ]
  },
  {
   "cell_type": "code",
   "execution_count": 36,
   "id": "9c34801e",
   "metadata": {},
   "outputs": [
    {
     "name": "stdout",
     "output_type": "stream",
     "text": [
      "Index(['job', 'marital', 'education', 'default', 'housing', 'loan', 'contact',\n",
      "       'month', 'poutcome', 'subscribed'],\n",
      "      dtype='object')\n"
     ]
    },
    {
     "data": {
      "text/plain": [
       "3"
      ]
     },
     "execution_count": 36,
     "metadata": {},
     "output_type": "execute_result"
    }
   ],
   "source": [
    "# We can select all categorical attributes by selecting object datatypes from the df\n",
    "\n",
    "print(df.select_dtypes(object).columns)\n",
    "\n",
    "# With the cardinality of the catergorical attributes determined by:\n",
    "\n",
    "df.marital.nunique()"
   ]
  },
  {
   "cell_type": "code",
   "execution_count": 37,
   "id": "eaa2f758",
   "metadata": {},
   "outputs": [
    {
     "data": {
      "text/plain": [
       "1990"
      ]
     },
     "execution_count": 37,
     "metadata": {},
     "output_type": "execute_result"
    }
   ],
   "source": [
    "df['job'].count()"
   ]
  },
  {
   "cell_type": "code",
   "execution_count": 38,
   "id": "e9955c5e",
   "metadata": {},
   "outputs": [
    {
     "data": {
      "text/plain": [
       "management       461\n",
       "technician       348\n",
       "blue-collar      298\n",
       "admin.           247\n",
       "services         165\n",
       "retired          162\n",
       "student           96\n",
       "unemployed        69\n",
       "self-employed     64\n",
       "entrepreneur      45\n",
       "housemaid         35\n",
       "Name: job, dtype: int64"
      ]
     },
     "execution_count": 38,
     "metadata": {},
     "output_type": "execute_result"
    }
   ],
   "source": [
    " df['job'].value_counts()"
   ]
  },
  {
   "cell_type": "code",
   "execution_count": 39,
   "id": "28a14d1e",
   "metadata": {},
   "outputs": [
    {
     "data": {
      "text/plain": [
       "10"
      ]
     },
     "execution_count": 39,
     "metadata": {},
     "output_type": "execute_result"
    }
   ],
   "source": [
    "df.job.isna().sum()"
   ]
  },
  {
   "cell_type": "markdown",
   "id": "d600015b",
   "metadata": {},
   "source": [
    "We don't have data on the jobs of 10 clients, which we can see from both counting the number who have a job and counting the number who do not have a job. \n",
    "I wonder if any of those 10 individuals have either a personal or a housing loan as I'd love to know how to get a loan without telling the bank your employment status or nature of your job."
   ]
  },
  {
   "cell_type": "code",
   "execution_count": 40,
   "id": "1c22424e",
   "metadata": {},
   "outputs": [
    {
     "data": {
      "text/html": [
       "<div>\n",
       "<style scoped>\n",
       "    .dataframe tbody tr th:only-of-type {\n",
       "        vertical-align: middle;\n",
       "    }\n",
       "\n",
       "    .dataframe tbody tr th {\n",
       "        vertical-align: top;\n",
       "    }\n",
       "\n",
       "    .dataframe thead th {\n",
       "        text-align: right;\n",
       "    }\n",
       "</style>\n",
       "<table border=\"1\" class=\"dataframe\">\n",
       "  <thead>\n",
       "    <tr style=\"text-align: right;\">\n",
       "      <th></th>\n",
       "      <th>age</th>\n",
       "      <th>job</th>\n",
       "      <th>marital</th>\n",
       "      <th>education</th>\n",
       "      <th>default</th>\n",
       "      <th>balance</th>\n",
       "      <th>housing</th>\n",
       "      <th>loan</th>\n",
       "      <th>contact</th>\n",
       "      <th>day</th>\n",
       "      <th>month</th>\n",
       "      <th>duration</th>\n",
       "      <th>campaign</th>\n",
       "      <th>pdays</th>\n",
       "      <th>previous</th>\n",
       "      <th>poutcome</th>\n",
       "      <th>subscribed</th>\n",
       "      <th>subnum</th>\n",
       "    </tr>\n",
       "  </thead>\n",
       "  <tbody>\n",
       "    <tr>\n",
       "      <th>0</th>\n",
       "      <td>32.0</td>\n",
       "      <td>technician</td>\n",
       "      <td>single</td>\n",
       "      <td>tertiary</td>\n",
       "      <td>no</td>\n",
       "      <td>392</td>\n",
       "      <td>yes</td>\n",
       "      <td>no</td>\n",
       "      <td>cellular</td>\n",
       "      <td>1</td>\n",
       "      <td>apr</td>\n",
       "      <td>957</td>\n",
       "      <td>2</td>\n",
       "      <td>131</td>\n",
       "      <td>2</td>\n",
       "      <td>failure</td>\n",
       "      <td>no</td>\n",
       "      <td>0</td>\n",
       "    </tr>\n",
       "    <tr>\n",
       "      <th>1</th>\n",
       "      <td>39.0</td>\n",
       "      <td>technician</td>\n",
       "      <td>divorced</td>\n",
       "      <td>secondary</td>\n",
       "      <td>no</td>\n",
       "      <td>688</td>\n",
       "      <td>yes</td>\n",
       "      <td>yes</td>\n",
       "      <td>cellular</td>\n",
       "      <td>1</td>\n",
       "      <td>apr</td>\n",
       "      <td>233</td>\n",
       "      <td>2</td>\n",
       "      <td>133</td>\n",
       "      <td>1</td>\n",
       "      <td>failure</td>\n",
       "      <td>no</td>\n",
       "      <td>0</td>\n",
       "    </tr>\n",
       "  </tbody>\n",
       "</table>\n",
       "</div>"
      ],
      "text/plain": [
       "    age         job   marital  education default  balance housing loan  \\\n",
       "0  32.0  technician    single   tertiary      no      392     yes   no   \n",
       "1  39.0  technician  divorced  secondary      no      688     yes  yes   \n",
       "\n",
       "    contact  day month  duration  campaign  pdays  previous poutcome  \\\n",
       "0  cellular    1   apr       957         2    131         2  failure   \n",
       "1  cellular    1   apr       233         2    133         1  failure   \n",
       "\n",
       "  subscribed  subnum  \n",
       "0         no       0  \n",
       "1         no       0  "
      ]
     },
     "execution_count": 40,
     "metadata": {},
     "output_type": "execute_result"
    }
   ],
   "source": [
    "df.head(2)"
   ]
  },
  {
   "cell_type": "code",
   "execution_count": 41,
   "id": "45cad92c",
   "metadata": {},
   "outputs": [
    {
     "data": {
      "text/html": [
       "<div>\n",
       "<style scoped>\n",
       "    .dataframe tbody tr th:only-of-type {\n",
       "        vertical-align: middle;\n",
       "    }\n",
       "\n",
       "    .dataframe tbody tr th {\n",
       "        vertical-align: top;\n",
       "    }\n",
       "\n",
       "    .dataframe thead th {\n",
       "        text-align: right;\n",
       "    }\n",
       "</style>\n",
       "<table border=\"1\" class=\"dataframe\">\n",
       "  <thead>\n",
       "    <tr style=\"text-align: right;\">\n",
       "      <th></th>\n",
       "      <th>age</th>\n",
       "      <th>job</th>\n",
       "      <th>marital</th>\n",
       "      <th>education</th>\n",
       "      <th>default</th>\n",
       "      <th>balance</th>\n",
       "      <th>housing</th>\n",
       "      <th>loan</th>\n",
       "      <th>contact</th>\n",
       "      <th>day</th>\n",
       "      <th>month</th>\n",
       "      <th>duration</th>\n",
       "      <th>campaign</th>\n",
       "      <th>pdays</th>\n",
       "      <th>previous</th>\n",
       "      <th>poutcome</th>\n",
       "      <th>subscribed</th>\n",
       "      <th>subnum</th>\n",
       "    </tr>\n",
       "  </thead>\n",
       "  <tbody>\n",
       "    <tr>\n",
       "      <th>255</th>\n",
       "      <td>42.0</td>\n",
       "      <td>NaN</td>\n",
       "      <td>single</td>\n",
       "      <td>primary</td>\n",
       "      <td>no</td>\n",
       "      <td>2398</td>\n",
       "      <td>yes</td>\n",
       "      <td>no</td>\n",
       "      <td>cellular</td>\n",
       "      <td>3</td>\n",
       "      <td>feb</td>\n",
       "      <td>144</td>\n",
       "      <td>2</td>\n",
       "      <td>271</td>\n",
       "      <td>2</td>\n",
       "      <td>failure</td>\n",
       "      <td>no</td>\n",
       "      <td>0</td>\n",
       "    </tr>\n",
       "    <tr>\n",
       "      <th>831</th>\n",
       "      <td>41.0</td>\n",
       "      <td>NaN</td>\n",
       "      <td>single</td>\n",
       "      <td>primary</td>\n",
       "      <td>no</td>\n",
       "      <td>2398</td>\n",
       "      <td>yes</td>\n",
       "      <td>no</td>\n",
       "      <td>NaN</td>\n",
       "      <td>8</td>\n",
       "      <td>may</td>\n",
       "      <td>287</td>\n",
       "      <td>2</td>\n",
       "      <td>-1</td>\n",
       "      <td>0</td>\n",
       "      <td>NaN</td>\n",
       "      <td>no</td>\n",
       "      <td>0</td>\n",
       "    </tr>\n",
       "  </tbody>\n",
       "</table>\n",
       "</div>"
      ],
      "text/plain": [
       "      age  job marital education default  balance housing loan   contact  day  \\\n",
       "255  42.0  NaN  single   primary      no     2398     yes   no  cellular    3   \n",
       "831  41.0  NaN  single   primary      no     2398     yes   no       NaN    8   \n",
       "\n",
       "    month  duration  campaign  pdays  previous poutcome subscribed  subnum  \n",
       "255   feb       144         2    271         2  failure         no       0  \n",
       "831   may       287         2     -1         0      NaN         no       0  "
      ]
     },
     "execution_count": 41,
     "metadata": {},
     "output_type": "execute_result"
    }
   ],
   "source": [
    "no_job_and_has_a_loan = df[df.job.isna() & ( (df['housing'] == 'yes') | (df['loan'] == 'yes') )]\n",
    "no_job_and_has_a_loan.head()"
   ]
  },
  {
   "cell_type": "markdown",
   "id": "e03e979e",
   "metadata": {},
   "source": [
    "As can be seen there's a 41 and a 42 year old with exactly the same bank balance, a primary level education and a housing loan each and the bank doesn't even know what they do for a living to earn the money to pay the bank for the housing loan. Considering relocating to Portugal.  "
   ]
  },
  {
   "cell_type": "code",
   "execution_count": 42,
   "id": "496be8a9",
   "metadata": {},
   "outputs": [
    {
     "data": {
      "text/html": [
       "<div>\n",
       "<style scoped>\n",
       "    .dataframe tbody tr th:only-of-type {\n",
       "        vertical-align: middle;\n",
       "    }\n",
       "\n",
       "    .dataframe tbody tr th {\n",
       "        vertical-align: top;\n",
       "    }\n",
       "\n",
       "    .dataframe thead th {\n",
       "        text-align: right;\n",
       "    }\n",
       "</style>\n",
       "<table border=\"1\" class=\"dataframe\">\n",
       "  <thead>\n",
       "    <tr style=\"text-align: right;\">\n",
       "      <th></th>\n",
       "      <th>job</th>\n",
       "      <th>marital</th>\n",
       "      <th>education</th>\n",
       "      <th>default</th>\n",
       "      <th>housing</th>\n",
       "      <th>loan</th>\n",
       "      <th>contact</th>\n",
       "      <th>month</th>\n",
       "      <th>poutcome</th>\n",
       "      <th>subscribed</th>\n",
       "    </tr>\n",
       "  </thead>\n",
       "  <tbody>\n",
       "    <tr>\n",
       "      <th>count</th>\n",
       "      <td>1990</td>\n",
       "      <td>2000</td>\n",
       "      <td>1896</td>\n",
       "      <td>2000</td>\n",
       "      <td>2000</td>\n",
       "      <td>2000</td>\n",
       "      <td>1809</td>\n",
       "      <td>2000</td>\n",
       "      <td>1546</td>\n",
       "      <td>2000</td>\n",
       "    </tr>\n",
       "    <tr>\n",
       "      <th>unique</th>\n",
       "      <td>11</td>\n",
       "      <td>3</td>\n",
       "      <td>3</td>\n",
       "      <td>2</td>\n",
       "      <td>2</td>\n",
       "      <td>2</td>\n",
       "      <td>2</td>\n",
       "      <td>12</td>\n",
       "      <td>3</td>\n",
       "      <td>2</td>\n",
       "    </tr>\n",
       "    <tr>\n",
       "      <th>top</th>\n",
       "      <td>management</td>\n",
       "      <td>married</td>\n",
       "      <td>secondary</td>\n",
       "      <td>no</td>\n",
       "      <td>no</td>\n",
       "      <td>no</td>\n",
       "      <td>cellular</td>\n",
       "      <td>feb</td>\n",
       "      <td>failure</td>\n",
       "      <td>no</td>\n",
       "    </tr>\n",
       "    <tr>\n",
       "      <th>freq</th>\n",
       "      <td>461</td>\n",
       "      <td>1111</td>\n",
       "      <td>995</td>\n",
       "      <td>1985</td>\n",
       "      <td>1037</td>\n",
       "      <td>1750</td>\n",
       "      <td>1663</td>\n",
       "      <td>404</td>\n",
       "      <td>955</td>\n",
       "      <td>1000</td>\n",
       "    </tr>\n",
       "  </tbody>\n",
       "</table>\n",
       "</div>"
      ],
      "text/plain": [
       "               job  marital  education default housing  loan   contact month  \\\n",
       "count         1990     2000       1896    2000    2000  2000      1809  2000   \n",
       "unique          11        3          3       2       2     2         2    12   \n",
       "top     management  married  secondary      no      no    no  cellular   feb   \n",
       "freq           461     1111        995    1985    1037  1750      1663   404   \n",
       "\n",
       "       poutcome subscribed  \n",
       "count      1546       2000  \n",
       "unique        3          2  \n",
       "top     failure         no  \n",
       "freq        955       1000  "
      ]
     },
     "execution_count": 42,
     "metadata": {},
     "output_type": "execute_result"
    }
   ],
   "source": [
    "# Let's look a bit deeper at the non-numerical or categorical data\n",
    "\n",
    "df.describe(include=object)"
   ]
  },
  {
   "cell_type": "markdown",
   "id": "4185417e",
   "metadata": {},
   "source": [
    "From this quick analysis of the non numerical or categorical attributes we can see that over half the banks clients are married, nearly half have a secondary level education, management is the most common job and the greatest number of clients were contacted last in February."
   ]
  },
  {
   "cell_type": "code",
   "execution_count": null,
   "id": "d96a196e",
   "metadata": {},
   "outputs": [],
   "source": []
  },
  {
   "cell_type": "markdown",
   "id": "ed69a317",
   "metadata": {},
   "source": [
    "Let's focus in on the job category, "
   ]
  },
  {
   "cell_type": "code",
   "execution_count": 43,
   "id": "72f62386",
   "metadata": {},
   "outputs": [],
   "source": [
    "#Replacing the NaN values with 'other'\n",
    "df['job'] = df['job'].fillna('other')"
   ]
  },
  {
   "cell_type": "code",
   "execution_count": 44,
   "id": "73257553",
   "metadata": {},
   "outputs": [
    {
     "data": {
      "text/plain": [
       "<seaborn.axisgrid.FacetGrid at 0x1578c8c40>"
      ]
     },
     "execution_count": 44,
     "metadata": {},
     "output_type": "execute_result"
    },
    {
     "data": {
      "image/png": "[encoded data removed]",
      "text/plain": [
       "<Figure size 907.2x504 with 1 Axes>"
      ]
     },
     "metadata": {},
     "output_type": "display_data"
    }
   ],
   "source": [
    "sns.catplot(data=df, x=\"job\", y=\"age\", height = 7, aspect = 1.8)"
   ]
  },
  {
   "cell_type": "markdown",
   "id": "64506c29",
   "metadata": {},
   "source": [
    "Plotting job against age we can see a trend in that those who are retired are older and students are younger - 'we hold all truths to be self evident'. \n",
    "Technician, blue-collar, management and admin appear to have roughly the same quantity but we know that management accounts for the job title of roughly 1/4 of the sample group. An alternative plot may make this more clear."
   ]
  },
  {
   "cell_type": "code",
   "execution_count": null,
   "id": "e2bcf943",
   "metadata": {},
   "outputs": [],
   "source": []
  },
  {
   "cell_type": "code",
   "execution_count": 45,
   "id": "678ca8cf",
   "metadata": {},
   "outputs": [
    {
     "data": {
      "text/plain": [
       "<AxesSubplot:xlabel='age', ylabel='job'>"
      ]
     },
     "execution_count": 45,
     "metadata": {},
     "output_type": "execute_result"
    },
    {
     "data": {
      "image/png": "[encoded data removed]",
      "text/plain": [
       "<Figure size 720x720 with 1 Axes>"
      ]
     },
     "metadata": {},
     "output_type": "display_data"
    }
   ],
   "source": [
    "df2 = df[[\"age\", \"job\"]]\n",
    "\n",
    "f, ax = plt.subplots(figsize=(10,10))\n",
    "\n",
    "sns.boxplot(data = df2, x=\"age\", y=\"job\")\n",
    "sns.stripplot(data = df2, x=\"age\", y=\"job\")\n"
   ]
  },
  {
   "cell_type": "code",
   "execution_count": 46,
   "id": "d233c8f5",
   "metadata": {},
   "outputs": [
    {
     "data": {
      "text/plain": [
       "<AxesSubplot:>"
      ]
     },
     "execution_count": 46,
     "metadata": {},
     "output_type": "execute_result"
    },
    {
     "data": {
      "image/png": "[encoded data removed]",
      "text/plain": [
       "<Figure size 1080x576 with 2 Axes>"
      ]
     },
     "metadata": {},
     "output_type": "display_data"
    }
   ],
   "source": [
    "jobs_map = {\n",
    "    'technician':1,\n",
    "    'retired':2,\n",
    "    'blue-collar':3,\n",
    "    'self-employed':4,\n",
    "    'services':5,\n",
    "    'management':6,\n",
    "    'admin':7,\n",
    "    'unemployed':8,\n",
    "    'student':9,\n",
    "    'entrepeneur':10,\n",
    "    'housemaid':11,\n",
    "    'other':12\n",
    "    \n",
    "}\n",
    "\n",
    "df['job_num'] = df['job'].map(jobs_map)\n",
    "sns.set(rc={'figure.figsize':(15,8)})\n",
    "sns.heatmap(df[['age', 'job_num', 'balance']].corr(), cmap=\"Reds\", annot=True)"
   ]
  },
  {
   "cell_type": "markdown",
   "id": "30767b77",
   "metadata": {},
   "source": [
    "Mapping the jobs to numbers to assess for correlation between age, balance and job shows no significant correlation between these entities. \n",
    "Is there any significant correlation to be noted when we add the outcome to the heatmap?"
   ]
  },
  {
   "cell_type": "code",
   "execution_count": 47,
   "id": "e096fa25",
   "metadata": {},
   "outputs": [
    {
     "data": {
      "text/plain": [
       "<AxesSubplot:>"
      ]
     },
     "execution_count": 47,
     "metadata": {},
     "output_type": "execute_result"
    },
    {
     "data": {
      "image/png": "[encoded data removed]",
      "text/plain": [
       "<Figure size 1080x576 with 2 Axes>"
      ]
     },
     "metadata": {},
     "output_type": "display_data"
    }
   ],
   "source": [
    "\n",
    "sns.set(rc = {'figure.figsize':(15,8)})\n",
    "sns.heatmap(df[['age', 'job_num', 'balance', 'subnum']].corr(), cmap=\"Reds\", annot=True)"
   ]
  },
  {
   "cell_type": "markdown",
   "id": "21ebf888",
   "metadata": {},
   "source": [
    "All that really can be said from this is that both the categorical job field and the numerical balance field have an equal but very small positive 0.15 correlation with whether an individual subscribed for a deposit account or not. "
   ]
  },
  {
   "cell_type": "code",
   "execution_count": null,
   "id": "032ef05f",
   "metadata": {},
   "outputs": [],
   "source": []
  },
  {
   "cell_type": "code",
   "execution_count": 53,
   "id": "bab934b7",
   "metadata": {},
   "outputs": [
    {
     "data": {
      "text/plain": [
       "<AxesSubplot:>"
      ]
     },
     "execution_count": 53,
     "metadata": {},
     "output_type": "execute_result"
    },
    {
     "data": {
      "image/png": "[encoded data removed]",
      "text/plain": [
       "<Figure size 1080x576 with 2 Axes>"
      ]
     },
     "metadata": {},
     "output_type": "display_data"
    }
   ],
   "source": [
    "sns.set(rc = {'figure.figsize':(15,8)})\n",
    "sns.heatmap(df[['age', 'job_num', 'balance', 'subnum']].corr(), cmap=\"Reds\", annot=True)"
   ]
  },
  {
   "cell_type": "code",
   "execution_count": null,
   "id": "263245b5",
   "metadata": {},
   "outputs": [],
   "source": []
  },
  {
   "cell_type": "code",
   "execution_count": null,
   "id": "4d1f0d44",
   "metadata": {},
   "outputs": [],
   "source": []
  },
  {
   "cell_type": "code",
   "execution_count": null,
   "id": "362d13e2",
   "metadata": {},
   "outputs": [],
   "source": []
  },
  {
   "cell_type": "code",
   "execution_count": null,
   "id": "b63f1b77",
   "metadata": {},
   "outputs": [],
   "source": []
  },
  {
   "cell_type": "code",
   "execution_count": null,
   "id": "11acc84f",
   "metadata": {},
   "outputs": [],
   "source": []
  },
  {
   "cell_type": "code",
   "execution_count": null,
   "id": "6fed1d8b",
   "metadata": {},
   "outputs": [],
   "source": []
  },
  {
   "cell_type": "code",
   "execution_count": null,
   "id": "b1d14ebd",
   "metadata": {},
   "outputs": [],
   "source": []
  },
  {
   "cell_type": "code",
   "execution_count": null,
   "id": "1313cbf2",
   "metadata": {},
   "outputs": [],
   "source": []
  },
  {
   "cell_type": "code",
   "execution_count": null,
   "id": "70a752cd",
   "metadata": {},
   "outputs": [],
   "source": []
  }
 ],
 "metadata": {
  "kernelspec": {
   "display_name": "Python 3 (ipykernel)",
   "language": "python",
   "name": "python3"
  },
  "language_info": {
   "codemirror_mode": {
    "name": "ipython",
    "version": 3
   },
   "file_extension": ".py",
   "mimetype": "text/x-python",
   "name": "python",
   "nbconvert_exporter": "python",
   "pygments_lexer": "ipython3",
   "version": "3.9.7"
  }
 },
 "nbformat": 4,
 "nbformat_minor": 5
}
